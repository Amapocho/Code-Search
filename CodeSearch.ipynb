{
 "cells": [
  {
   "cell_type": "code",
   "execution_count": 1,
   "metadata": {},
   "outputs": [],
   "source": [
    "import torch\n",
    "import pandas as pd\n",
    "import numpy as np\n",
    "pd.options.mode.chained_assignment = None\n",
    "import sctokenizer\n",
    "import spacy\n",
    "import string\n",
    "import re\n",
    "from collections import Counter\n",
    "\n",
    "import random\n",
    "import torch\n",
    "import torch.nn as nn\n",
    "import torch.nn.init as weight_init\n",
    "import torch.nn.functional as F\n",
    "#from torch.nn.utils.rnn import pack_padded_sequence, pad_packed_sequence\n",
    "import torch.utils.data as data\n",
    "from torch import optim"
   ]
  },
  {
   "cell_type": "code",
   "execution_count": 2,
   "metadata": {},
   "outputs": [
    {
     "data": {
      "text/plain": [
       "'NVIDIA GeForce GTX 1660 Ti'"
      ]
     },
     "execution_count": 2,
     "metadata": {},
     "output_type": "execute_result"
    }
   ],
   "source": [
    "torch.cuda.get_device_name(0)"
   ]
  },
  {
   "cell_type": "code",
   "execution_count": 3,
   "metadata": {},
   "outputs": [],
   "source": [
    "if torch.cuda.is_available():\n",
    "    device = torch.device('cuda')\n",
    "else:\n",
    "    device = torch.device('cpu')"
   ]
  },
  {
   "cell_type": "code",
   "execution_count": 4,
   "metadata": {},
   "outputs": [],
   "source": [
    "df = pd.read_csv(\"E:/BITS/2nd Year/Industry project/Dataset/c_data_twocols.zip\")"
   ]
  },
  {
   "cell_type": "code",
   "execution_count": 5,
   "metadata": {},
   "outputs": [],
   "source": [
    "df = df.replace(r'^\\s*$', np.nan, regex=True)"
   ]
  },
  {
   "cell_type": "code",
   "execution_count": 6,
   "metadata": {},
   "outputs": [
    {
     "data": {
      "text/html": [
       "<div>\n",
       "<style scoped>\n",
       "    .dataframe tbody tr th:only-of-type {\n",
       "        vertical-align: middle;\n",
       "    }\n",
       "\n",
       "    .dataframe tbody tr th {\n",
       "        vertical-align: top;\n",
       "    }\n",
       "\n",
       "    .dataframe thead th {\n",
       "        text-align: right;\n",
       "    }\n",
       "</style>\n",
       "<table border=\"1\" class=\"dataframe\">\n",
       "  <thead>\n",
       "    <tr style=\"text-align: right;\">\n",
       "      <th></th>\n",
       "      <th>code</th>\n",
       "      <th>comment</th>\n",
       "    </tr>\n",
       "  </thead>\n",
       "  <tbody>\n",
       "    <tr>\n",
       "      <th>0</th>\n",
       "      <td>struct _CameraFile {\\n        char\\t\\tmime_typ...</td>\n",
       "      <td>NaN</td>\n",
       "    </tr>\n",
       "    <tr>\n",
       "      <th>1</th>\n",
       "      <td>struct _CameraFilesystem {\\n\\tCameraFilesystem...</td>\n",
       "      <td>The internals of the #CameraFilesystem are onl...</td>\n",
       "    </tr>\n",
       "    <tr>\n",
       "      <th>2</th>\n",
       "      <td>struct _CameraWidget {\\n\\tCameraWidgetType typ...</td>\n",
       "      <td>CameraWidget: The internals of the #CameraWidg...</td>\n",
       "    </tr>\n",
       "    <tr>\n",
       "      <th>3</th>\n",
       "      <td>struct _entry {\\n\\tchar *name;\\n\\tchar *value;...</td>\n",
       "      <td>NaN</td>\n",
       "    </tr>\n",
       "    <tr>\n",
       "      <th>4</th>\n",
       "      <td>\\tchar error[2048];\\t/**&lt; Internal kept error ...</td>\n",
       "      <td>Internal kept error message.</td>\n",
       "    </tr>\n",
       "  </tbody>\n",
       "</table>\n",
       "</div>"
      ],
      "text/plain": [
       "                                                code  \\\n",
       "0  struct _CameraFile {\\n        char\\t\\tmime_typ...   \n",
       "1  struct _CameraFilesystem {\\n\\tCameraFilesystem...   \n",
       "2  struct _CameraWidget {\\n\\tCameraWidgetType typ...   \n",
       "3  struct _entry {\\n\\tchar *name;\\n\\tchar *value;...   \n",
       "4  \\tchar error[2048];\\t/**< Internal kept error ...   \n",
       "\n",
       "                                             comment  \n",
       "0                                                NaN  \n",
       "1  The internals of the #CameraFilesystem are onl...  \n",
       "2  CameraWidget: The internals of the #CameraWidg...  \n",
       "3                                                NaN  \n",
       "4                       Internal kept error message.  "
      ]
     },
     "execution_count": 6,
     "metadata": {},
     "output_type": "execute_result"
    }
   ],
   "source": [
    "df.head()"
   ]
  },
  {
   "cell_type": "code",
   "execution_count": 7,
   "metadata": {},
   "outputs": [],
   "source": [
    "df = df.dropna(axis=0)"
   ]
  },
  {
   "cell_type": "code",
   "execution_count": 8,
   "metadata": {},
   "outputs": [],
   "source": [
    "df['code'] = df['code'].astype('str')\n",
    "df['comment'] = df['comment'].astype('str')"
   ]
  },
  {
   "cell_type": "code",
   "execution_count": 9,
   "metadata": {},
   "outputs": [],
   "source": [
    "df_train = df.head(10000)"
   ]
  },
  {
   "cell_type": "code",
   "execution_count": 10,
   "metadata": {},
   "outputs": [],
   "source": [
    "from sctokenizer import CppTokenizer\n",
    "\n",
    "ctokenizer = CppTokenizer()"
   ]
  },
  {
   "cell_type": "code",
   "execution_count": 11,
   "metadata": {},
   "outputs": [],
   "source": [
    "from spacy.lang.en.stop_words import STOP_WORDS\n",
    "\n",
    "spacy_nlp = spacy.load('en_core_web_sm')\n",
    "\n",
    "punctuations = string.punctuation\n",
    "stop_words = spacy.lang.en.stop_words.STOP_WORDS"
   ]
  },
  {
   "cell_type": "code",
   "execution_count": 12,
   "metadata": {},
   "outputs": [],
   "source": [
    "def spacy_tokenizer(sentence):\n",
    " \n",
    "    #remove distracting single quotes\n",
    "    sentence = re.sub('\\'','',sentence)\n",
    "\n",
    "    #remove digits adnd words containing digits\n",
    "    sentence = re.sub('\\w*\\d\\w*','',sentence)\n",
    "\n",
    "    #replace extra spaces with single space\n",
    "    sentence = re.sub(' +',' ',sentence)\n",
    "\n",
    "    #remove unwanted lines starting from special charcters\n",
    "    sentence = re.sub(r'\\n: \\'\\'.*','',sentence)\n",
    "    sentence = re.sub(r'\\n!.*','',sentence)\n",
    "    sentence = re.sub(r'^:\\'\\'.*','',sentence)\n",
    "    \n",
    "    #remove non-breaking new line characters\n",
    "    sentence = re.sub(r'\\n',' ',sentence)\n",
    "    \n",
    "    #remove punctunations\n",
    "    sentence = re.sub(r'[^\\w\\s]',' ',sentence)\n",
    "    \n",
    "    #creating token object\n",
    "    tokens = spacy_nlp(sentence)\n",
    "    \n",
    "    #lower, strip and lemmatize\n",
    "    tokens = [word.lemma_.lower().strip() if word.lemma_ != \"-PRON-\" else word.lower_ for word in tokens]\n",
    "    \n",
    "    #remove stopwords, and exclude words less than 2 characters\n",
    "    tokens = [word for word in tokens if word not in stop_words and word not in punctuations and len(word) > 2]\n",
    "    \n",
    "    #return tokens\n",
    "    return tokens"
   ]
  },
  {
   "cell_type": "code",
   "execution_count": 13,
   "metadata": {},
   "outputs": [],
   "source": [
    "def str_code(x):\n",
    "    tokens = ctokenizer.tokenize(x)\n",
    "    string_tok = [str(i.token_value)+\" \"+str(i.token_type) for i in tokens]\n",
    "    return string_tok"
   ]
  },
  {
   "cell_type": "code",
   "execution_count": 14,
   "metadata": {},
   "outputs": [
    {
     "data": {
      "text/plain": [
       "['struct TokenType.KEYWORD',\n",
       " '_ TokenType.SPECIAL_SYMBOL',\n",
       " 'CameraFilesystem TokenType.IDENTIFIER',\n",
       " '{ TokenType.SPECIAL_SYMBOL',\n",
       " 'CameraFilesystemFolder TokenType.IDENTIFIER',\n",
       " '* TokenType.OPERATOR',\n",
       " 'rootfolder TokenType.IDENTIFIER',\n",
       " '; TokenType.SPECIAL_SYMBOL',\n",
       " 'CameraFilesystemFile TokenType.IDENTIFIER',\n",
       " '* TokenType.OPERATOR',\n",
       " 'lru_first TokenType.IDENTIFIER',\n",
       " '; TokenType.SPECIAL_SYMBOL',\n",
       " 'CameraFilesystemFile TokenType.IDENTIFIER',\n",
       " '* TokenType.OPERATOR',\n",
       " 'lru_last TokenType.IDENTIFIER',\n",
       " '; TokenType.SPECIAL_SYMBOL',\n",
       " 'unsigned TokenType.KEYWORD',\n",
       " 'long TokenType.KEYWORD',\n",
       " 'int TokenType.KEYWORD',\n",
       " 'lru_size TokenType.IDENTIFIER',\n",
       " '; TokenType.SPECIAL_SYMBOL',\n",
       " 'CameraFilesystemGetInfoFunc TokenType.IDENTIFIER',\n",
       " 'get_info_func TokenType.IDENTIFIER',\n",
       " '; TokenType.SPECIAL_SYMBOL',\n",
       " 'CameraFilesystemSetInfoFunc TokenType.IDENTIFIER',\n",
       " 'set_info_func TokenType.IDENTIFIER',\n",
       " '; TokenType.SPECIAL_SYMBOL',\n",
       " 'CameraFilesystemListFunc TokenType.IDENTIFIER',\n",
       " 'file_list_func TokenType.IDENTIFIER',\n",
       " '; TokenType.SPECIAL_SYMBOL',\n",
       " 'CameraFilesystemListFunc TokenType.IDENTIFIER',\n",
       " 'folder_list_func TokenType.IDENTIFIER',\n",
       " '; TokenType.SPECIAL_SYMBOL',\n",
       " 'CameraFilesystemGetFileFunc TokenType.IDENTIFIER',\n",
       " 'get_file_func TokenType.IDENTIFIER',\n",
       " '; TokenType.SPECIAL_SYMBOL',\n",
       " 'CameraFilesystemReadFileFunc TokenType.IDENTIFIER',\n",
       " 'read_file_func TokenType.IDENTIFIER',\n",
       " '; TokenType.SPECIAL_SYMBOL',\n",
       " 'CameraFilesystemDeleteFileFunc TokenType.IDENTIFIER',\n",
       " 'delete TokenType.OPERATOR',\n",
       " '_ TokenType.SPECIAL_SYMBOL',\n",
       " 'file_func TokenType.IDENTIFIER',\n",
       " '; TokenType.SPECIAL_SYMBOL',\n",
       " 'CameraFilesystemPutFileFunc TokenType.IDENTIFIER',\n",
       " 'put_file_func TokenType.IDENTIFIER',\n",
       " '; TokenType.SPECIAL_SYMBOL',\n",
       " 'CameraFilesystemDeleteAllFunc TokenType.IDENTIFIER',\n",
       " 'delete TokenType.OPERATOR',\n",
       " '_ TokenType.SPECIAL_SYMBOL',\n",
       " 'all_func TokenType.IDENTIFIER',\n",
       " '; TokenType.SPECIAL_SYMBOL',\n",
       " 'CameraFilesystemDirFunc TokenType.IDENTIFIER',\n",
       " 'make_dir_func TokenType.IDENTIFIER',\n",
       " '; TokenType.SPECIAL_SYMBOL',\n",
       " 'CameraFilesystemDirFunc TokenType.IDENTIFIER',\n",
       " 'remove_dir_func TokenType.IDENTIFIER',\n",
       " '; TokenType.SPECIAL_SYMBOL',\n",
       " 'CameraFilesystemStorageInfoFunc TokenType.IDENTIFIER',\n",
       " 'storage_info_func TokenType.IDENTIFIER',\n",
       " '; TokenType.SPECIAL_SYMBOL',\n",
       " 'void TokenType.KEYWORD',\n",
       " '* TokenType.OPERATOR',\n",
       " 'data TokenType.IDENTIFIER',\n",
       " '; TokenType.SPECIAL_SYMBOL',\n",
       " '} TokenType.SPECIAL_SYMBOL',\n",
       " '; TokenType.SPECIAL_SYMBOL']"
      ]
     },
     "execution_count": 14,
     "metadata": {},
     "output_type": "execute_result"
    }
   ],
   "source": [
    "str_code(df_train.iat[0,0])"
   ]
  },
  {
   "cell_type": "code",
   "execution_count": 15,
   "metadata": {},
   "outputs": [],
   "source": [
    "df_train['comment_token'] = df_train['comment'].map(lambda x: spacy_tokenizer(x))\n",
    "df_train['code_token'] = df_train['code'].map(lambda x: str_code(x))"
   ]
  },
  {
   "cell_type": "code",
   "execution_count": 16,
   "metadata": {},
   "outputs": [
    {
     "data": {
      "text/html": [
       "<div>\n",
       "<style scoped>\n",
       "    .dataframe tbody tr th:only-of-type {\n",
       "        vertical-align: middle;\n",
       "    }\n",
       "\n",
       "    .dataframe tbody tr th {\n",
       "        vertical-align: top;\n",
       "    }\n",
       "\n",
       "    .dataframe thead th {\n",
       "        text-align: right;\n",
       "    }\n",
       "</style>\n",
       "<table border=\"1\" class=\"dataframe\">\n",
       "  <thead>\n",
       "    <tr style=\"text-align: right;\">\n",
       "      <th></th>\n",
       "      <th>code</th>\n",
       "      <th>comment</th>\n",
       "      <th>comment_token</th>\n",
       "      <th>code_token</th>\n",
       "    </tr>\n",
       "  </thead>\n",
       "  <tbody>\n",
       "    <tr>\n",
       "      <th>1</th>\n",
       "      <td>struct _CameraFilesystem {\\n\\tCameraFilesystem...</td>\n",
       "      <td>The internals of the #CameraFilesystem are onl...</td>\n",
       "      <td>[internal, camerafilesystem, visible, access, ...</td>\n",
       "      <td>[struct TokenType.KEYWORD, _ TokenType.SPECIAL...</td>\n",
       "    </tr>\n",
       "    <tr>\n",
       "      <th>2</th>\n",
       "      <td>struct _CameraWidget {\\n\\tCameraWidgetType typ...</td>\n",
       "      <td>CameraWidget: The internals of the #CameraWidg...</td>\n",
       "      <td>[camerawidget, internal, camerawidget, visible...</td>\n",
       "      <td>[struct TokenType.KEYWORD, _ TokenType.SPECIAL...</td>\n",
       "    </tr>\n",
       "    <tr>\n",
       "      <th>4</th>\n",
       "      <td>\\tchar error[2048];\\t/**&lt; Internal kept error ...</td>\n",
       "      <td>Internal kept error message.</td>\n",
       "      <td>[internal, error, message]</td>\n",
       "      <td>[char TokenType.KEYWORD, error TokenType.KEYWO...</td>\n",
       "    </tr>\n",
       "    <tr>\n",
       "      <th>5</th>\n",
       "      <td>\\tstruct _GPPortInfo info;\\t/**&lt; Internal port...</td>\n",
       "      <td>Internal port information of this port.</td>\n",
       "      <td>[internal, port, information, port]</td>\n",
       "      <td>[struct TokenType.KEYWORD, _ TokenType.SPECIAL...</td>\n",
       "    </tr>\n",
       "    <tr>\n",
       "      <th>6</th>\n",
       "      <td>\\tGPPortOperations *ops;\\t/**&lt; Internal port o...</td>\n",
       "      <td>Internal port operations.</td>\n",
       "      <td>[internal, port, operation]</td>\n",
       "      <td>[GPPortOperations TokenType.IDENTIFIER, * Toke...</td>\n",
       "    </tr>\n",
       "  </tbody>\n",
       "</table>\n",
       "</div>"
      ],
      "text/plain": [
       "                                                code  \\\n",
       "1  struct _CameraFilesystem {\\n\\tCameraFilesystem...   \n",
       "2  struct _CameraWidget {\\n\\tCameraWidgetType typ...   \n",
       "4  \\tchar error[2048];\\t/**< Internal kept error ...   \n",
       "5  \\tstruct _GPPortInfo info;\\t/**< Internal port...   \n",
       "6  \\tGPPortOperations *ops;\\t/**< Internal port o...   \n",
       "\n",
       "                                             comment  \\\n",
       "1  The internals of the #CameraFilesystem are onl...   \n",
       "2  CameraWidget: The internals of the #CameraWidg...   \n",
       "4                       Internal kept error message.   \n",
       "5            Internal port information of this port.   \n",
       "6                          Internal port operations.   \n",
       "\n",
       "                                       comment_token  \\\n",
       "1  [internal, camerafilesystem, visible, access, ...   \n",
       "2  [camerawidget, internal, camerawidget, visible...   \n",
       "4                         [internal, error, message]   \n",
       "5                [internal, port, information, port]   \n",
       "6                        [internal, port, operation]   \n",
       "\n",
       "                                          code_token  \n",
       "1  [struct TokenType.KEYWORD, _ TokenType.SPECIAL...  \n",
       "2  [struct TokenType.KEYWORD, _ TokenType.SPECIAL...  \n",
       "4  [char TokenType.KEYWORD, error TokenType.KEYWO...  \n",
       "5  [struct TokenType.KEYWORD, _ TokenType.SPECIAL...  \n",
       "6  [GPPortOperations TokenType.IDENTIFIER, * Toke...  "
      ]
     },
     "execution_count": 16,
     "metadata": {},
     "output_type": "execute_result"
    }
   ],
   "source": [
    "df_train.head()"
   ]
  },
  {
   "cell_type": "code",
   "execution_count": 50,
   "metadata": {},
   "outputs": [],
   "source": [
    "counts_com = Counter()\n",
    "for index, row in df_train.iterrows():\n",
    "    counts_com.update(row['comment_token'])"
   ]
  },
  {
   "cell_type": "code",
   "execution_count": 51,
   "metadata": {},
   "outputs": [
    {
     "name": "stdout",
     "output_type": "stream",
     "text": [
      "num_words before: 6881\n",
      "num_words after: 3435\n"
     ]
    }
   ],
   "source": [
    "print(\"num_words before:\",len(counts_com.keys()))\n",
    "for word in list(counts_com):\n",
    "    if counts_com[word] < 2:\n",
    "        del counts_com[word]\n",
    "print(\"num_words after:\",len(counts_com.keys()))"
   ]
  },
  {
   "cell_type": "code",
   "execution_count": 52,
   "metadata": {},
   "outputs": [],
   "source": [
    "counts_code = Counter()\n",
    "for index, row in df_train.iterrows():\n",
    "    counts_code.update(row['code_token'])"
   ]
  },
  {
   "cell_type": "code",
   "execution_count": 53,
   "metadata": {},
   "outputs": [
    {
     "name": "stdout",
     "output_type": "stream",
     "text": [
      "num_words before: 44062\n",
      "num_words after: 25180\n"
     ]
    }
   ],
   "source": [
    "print(\"num_words before:\",len(counts_code.keys()))\n",
    "for word in list(counts_code):\n",
    "    if counts_code[word] < 2:\n",
    "        del counts_code[word]\n",
    "print(\"num_words after:\",len(counts_code.keys()))"
   ]
  },
  {
   "cell_type": "code",
   "execution_count": 54,
   "metadata": {},
   "outputs": [],
   "source": [
    "vocab2index_com = {\"\":0, \"UNK\":1}\n",
    "words_com = [\"\", \"UNK\"]\n",
    "for word in counts_com:\n",
    "    vocab2index_com[word] = len(words_com)\n",
    "    words_com.append(word)"
   ]
  },
  {
   "cell_type": "code",
   "execution_count": 55,
   "metadata": {},
   "outputs": [],
   "source": [
    "vocab2index_code = {\"\":0, \"UNK\":1}\n",
    "words_code = [\"\", \"UNK\"]\n",
    "for word in counts_code:\n",
    "    vocab2index_code[word] = len(words_code)\n",
    "    words_code.append(word)"
   ]
  },
  {
   "cell_type": "code",
   "execution_count": 56,
   "metadata": {},
   "outputs": [
    {
     "name": "stdout",
     "output_type": "stream",
     "text": [
      "Mean = 10.3102\n",
      "Median = 6.0\n",
      "Max = 375\n"
     ]
    }
   ],
   "source": [
    "l_com = []\n",
    "for index, row in df_train.iterrows():\n",
    "    l_com.append(len(row['comment_token']))\n",
    "print(f\"Mean = {np.mean(l_com)}\")\n",
    "print(f\"Median = {np.median(l_com)}\")\n",
    "print(f\"Max = {np.max(l_com)}\")"
   ]
  },
  {
   "cell_type": "code",
   "execution_count": 57,
   "metadata": {},
   "outputs": [
    {
     "data": {
      "image/png": "[encoded data removed]",
      "text/plain": [
       "<Figure size 432x288 with 1 Axes>"
      ]
     },
     "metadata": {
      "needs_background": "light"
     },
     "output_type": "display_data"
    }
   ],
   "source": [
    "import matplotlib.pyplot as plt\n",
    "\n",
    "plt.boxplot(l_com, showfliers=False)\n",
    "\n",
    "plt.show()"
   ]
  },
  {
   "cell_type": "code",
   "execution_count": 58,
   "metadata": {},
   "outputs": [
    {
     "name": "stdout",
     "output_type": "stream",
     "text": [
      "Mean = 156.7234\n",
      "Median = 80.0\n",
      "Max = 5554\n"
     ]
    }
   ],
   "source": [
    "l_code = []\n",
    "for index, row in df_train.iterrows():\n",
    "    l_code.append(len(row['code_token']))\n",
    "print(f\"Mean = {np.mean(l_code)}\")\n",
    "print(f\"Median = {np.median(l_code)}\")\n",
    "print(f\"Max = {np.max(l_code)}\")\n",
    "\n"
   ]
  },
  {
   "cell_type": "code",
   "execution_count": 59,
   "metadata": {},
   "outputs": [
    {
     "data": {
      "image/png": "[encoded data removed]",
      "text/plain": [
       "<Figure size 432x288 with 1 Axes>"
      ]
     },
     "metadata": {
      "needs_background": "light"
     },
     "output_type": "display_data"
    }
   ],
   "source": [
    "import matplotlib.pyplot as plt\n",
    "\n",
    "plt.boxplot(l_code, showfliers=False)\n",
    "\n",
    "plt.show()"
   ]
  },
  {
   "cell_type": "code",
   "execution_count": 88,
   "metadata": {},
   "outputs": [
    {
     "name": "stderr",
     "output_type": "stream",
     "text": [
      "C:\\ProgramData\\Anaconda3\\lib\\site-packages\\seaborn\\_decorators.py:36: FutureWarning: Pass the following variable as a keyword arg: x. From version 0.12, the only valid positional argument will be `data`, and passing other arguments without an explicit keyword will result in an error or misinterpretation.\n",
      "  warnings.warn(\n"
     ]
    },
    {
     "data": {
      "image/png": "[encoded data removed]",
      "text/plain": [
       "<Figure size 432x288 with 1 Axes>"
      ]
     },
     "metadata": {
      "needs_background": "light"
     },
     "output_type": "display_data"
    }
   ],
   "source": [
    "import seaborn as sns\n",
    "\n",
    "ax = sns.violinplot(l_code, showextrema=False)"
   ]
  },
  {
   "cell_type": "code",
   "execution_count": 60,
   "metadata": {},
   "outputs": [],
   "source": [
    "def encode_sentence(tokenized, vocab2index, N=25):\n",
    "    encoded = np.zeros(N, dtype=int)\n",
    "    enc1 = np.array([vocab2index.get(word, vocab2index[\"UNK\"]) for word in tokenized])\n",
    "    length = min(N, len(enc1))\n",
    "    encoded[:length] = enc1[:length]\n",
    "    return encoded, length"
   ]
  },
  {
   "cell_type": "code",
   "execution_count": 61,
   "metadata": {},
   "outputs": [],
   "source": [
    "def encode_code(tokenized, vocab2index, N=400):\n",
    "    encoded = np.zeros(N, dtype=int)\n",
    "    enc1 = np.array([vocab2index.get(word, vocab2index[\"UNK\"]) for word in tokenized])\n",
    "    length = min(N, len(enc1))\n",
    "    encoded[:length] = enc1[:length]\n",
    "    return encoded, length"
   ]
  },
  {
   "cell_type": "code",
   "execution_count": 62,
   "metadata": {},
   "outputs": [
    {
     "name": "stderr",
     "output_type": "stream",
     "text": [
      "<ipython-input-62-de7353da255d>:1: VisibleDeprecationWarning: Creating an ndarray from ragged nested sequences (which is a list-or-tuple of lists-or-tuples-or ndarrays with different lengths or shapes) is deprecated. If you meant to do this, you must specify 'dtype=object' when creating the ndarray\n",
      "  df_train['comment_vec'] = df_train['comment_token'].apply(lambda x: np.array(encode_sentence(x,vocab2index_com )))\n",
      "<ipython-input-62-de7353da255d>:2: VisibleDeprecationWarning: Creating an ndarray from ragged nested sequences (which is a list-or-tuple of lists-or-tuples-or ndarrays with different lengths or shapes) is deprecated. If you meant to do this, you must specify 'dtype=object' when creating the ndarray\n",
      "  df_train['code_vec'] = df_train['code_token'].apply(lambda x: np.array(encode_code(x,vocab2index_code )))\n"
     ]
    }
   ],
   "source": [
    "df_train['comment_vec'] = df_train['comment_token'].apply(lambda x: np.array(encode_sentence(x,vocab2index_com )))\n",
    "df_train['code_vec'] = df_train['code_token'].apply(lambda x: np.array(encode_code(x,vocab2index_code )))"
   ]
  },
  {
   "cell_type": "code",
   "execution_count": 63,
   "metadata": {},
   "outputs": [
    {
     "data": {
      "text/html": [
       "<div>\n",
       "<style scoped>\n",
       "    .dataframe tbody tr th:only-of-type {\n",
       "        vertical-align: middle;\n",
       "    }\n",
       "\n",
       "    .dataframe tbody tr th {\n",
       "        vertical-align: top;\n",
       "    }\n",
       "\n",
       "    .dataframe thead th {\n",
       "        text-align: right;\n",
       "    }\n",
       "</style>\n",
       "<table border=\"1\" class=\"dataframe\">\n",
       "  <thead>\n",
       "    <tr style=\"text-align: right;\">\n",
       "      <th></th>\n",
       "      <th>code</th>\n",
       "      <th>comment</th>\n",
       "      <th>comment_token</th>\n",
       "      <th>code_token</th>\n",
       "      <th>comment_vec</th>\n",
       "      <th>code_vec</th>\n",
       "    </tr>\n",
       "  </thead>\n",
       "  <tbody>\n",
       "    <tr>\n",
       "      <th>1</th>\n",
       "      <td>struct _CameraFilesystem {\\n\\tCameraFilesystem...</td>\n",
       "      <td>The internals of the #CameraFilesystem are onl...</td>\n",
       "      <td>[internal, camerafilesystem, visible, access, ...</td>\n",
       "      <td>[struct TokenType.KEYWORD, _ TokenType.SPECIAL...</td>\n",
       "      <td>[[2, 3, 4, 5, 6, 7, 8, 0, 0, 0, 0, 0, 0, 0, 0,...</td>\n",
       "      <td>[[2, 3, 4, 5, 1, 6, 7, 8, 9, 6, 1, 8, 9, 6, 1,...</td>\n",
       "    </tr>\n",
       "    <tr>\n",
       "      <th>2</th>\n",
       "      <td>struct _CameraWidget {\\n\\tCameraWidgetType typ...</td>\n",
       "      <td>CameraWidget: The internals of the #CameraWidg...</td>\n",
       "      <td>[camerawidget, internal, camerawidget, visible...</td>\n",
       "      <td>[struct TokenType.KEYWORD, _ TokenType.SPECIAL...</td>\n",
       "      <td>[[9, 2, 9, 4, 5, 6, 7, 8, 0, 0, 0, 0, 0, 0, 0,...</td>\n",
       "      <td>[[2, 3, 29, 5, 30, 31, 8, 32, 33, 34, 35, 36, ...</td>\n",
       "    </tr>\n",
       "    <tr>\n",
       "      <th>4</th>\n",
       "      <td>\\tchar error[2048];\\t/**&lt; Internal kept error ...</td>\n",
       "      <td>Internal kept error message.</td>\n",
       "      <td>[internal, error, message]</td>\n",
       "      <td>[char TokenType.KEYWORD, error TokenType.KEYWO...</td>\n",
       "      <td>[[2, 10, 11, 0, 0, 0, 0, 0, 0, 0, 0, 0, 0, 0, ...</td>\n",
       "      <td>[[32, 58, 34, 59, 36, 8, 41, 42, 0, 0, 0, 0, 0...</td>\n",
       "    </tr>\n",
       "    <tr>\n",
       "      <th>5</th>\n",
       "      <td>\\tstruct _GPPortInfo info;\\t/**&lt; Internal port...</td>\n",
       "      <td>Internal port information of this port.</td>\n",
       "      <td>[internal, port, information, port]</td>\n",
       "      <td>[struct TokenType.KEYWORD, _ TokenType.SPECIAL...</td>\n",
       "      <td>[[2, 12, 13, 12, 0, 0, 0, 0, 0, 0, 0, 0, 0, 0,...</td>\n",
       "      <td>[[2, 3, 60, 37, 8, 41, 42, 0, 0, 0, 0, 0, 0, 0...</td>\n",
       "    </tr>\n",
       "    <tr>\n",
       "      <th>6</th>\n",
       "      <td>\\tGPPortOperations *ops;\\t/**&lt; Internal port o...</td>\n",
       "      <td>Internal port operations.</td>\n",
       "      <td>[internal, port, operation]</td>\n",
       "      <td>[GPPortOperations TokenType.IDENTIFIER, * Toke...</td>\n",
       "      <td>[[2, 12, 14, 0, 0, 0, 0, 0, 0, 0, 0, 0, 0, 0, ...</td>\n",
       "      <td>[[61, 6, 62, 8, 41, 42, 0, 0, 0, 0, 0, 0, 0, 0...</td>\n",
       "    </tr>\n",
       "  </tbody>\n",
       "</table>\n",
       "</div>"
      ],
      "text/plain": [
       "                                                code  \\\n",
       "1  struct _CameraFilesystem {\\n\\tCameraFilesystem...   \n",
       "2  struct _CameraWidget {\\n\\tCameraWidgetType typ...   \n",
       "4  \\tchar error[2048];\\t/**< Internal kept error ...   \n",
       "5  \\tstruct _GPPortInfo info;\\t/**< Internal port...   \n",
       "6  \\tGPPortOperations *ops;\\t/**< Internal port o...   \n",
       "\n",
       "                                             comment  \\\n",
       "1  The internals of the #CameraFilesystem are onl...   \n",
       "2  CameraWidget: The internals of the #CameraWidg...   \n",
       "4                       Internal kept error message.   \n",
       "5            Internal port information of this port.   \n",
       "6                          Internal port operations.   \n",
       "\n",
       "                                       comment_token  \\\n",
       "1  [internal, camerafilesystem, visible, access, ...   \n",
       "2  [camerawidget, internal, camerawidget, visible...   \n",
       "4                         [internal, error, message]   \n",
       "5                [internal, port, information, port]   \n",
       "6                        [internal, port, operation]   \n",
       "\n",
       "                                          code_token  \\\n",
       "1  [struct TokenType.KEYWORD, _ TokenType.SPECIAL...   \n",
       "2  [struct TokenType.KEYWORD, _ TokenType.SPECIAL...   \n",
       "4  [char TokenType.KEYWORD, error TokenType.KEYWO...   \n",
       "5  [struct TokenType.KEYWORD, _ TokenType.SPECIAL...   \n",
       "6  [GPPortOperations TokenType.IDENTIFIER, * Toke...   \n",
       "\n",
       "                                         comment_vec  \\\n",
       "1  [[2, 3, 4, 5, 6, 7, 8, 0, 0, 0, 0, 0, 0, 0, 0,...   \n",
       "2  [[9, 2, 9, 4, 5, 6, 7, 8, 0, 0, 0, 0, 0, 0, 0,...   \n",
       "4  [[2, 10, 11, 0, 0, 0, 0, 0, 0, 0, 0, 0, 0, 0, ...   \n",
       "5  [[2, 12, 13, 12, 0, 0, 0, 0, 0, 0, 0, 0, 0, 0,...   \n",
       "6  [[2, 12, 14, 0, 0, 0, 0, 0, 0, 0, 0, 0, 0, 0, ...   \n",
       "\n",
       "                                            code_vec  \n",
       "1  [[2, 3, 4, 5, 1, 6, 7, 8, 9, 6, 1, 8, 9, 6, 1,...  \n",
       "2  [[2, 3, 29, 5, 30, 31, 8, 32, 33, 34, 35, 36, ...  \n",
       "4  [[32, 58, 34, 59, 36, 8, 41, 42, 0, 0, 0, 0, 0...  \n",
       "5  [[2, 3, 60, 37, 8, 41, 42, 0, 0, 0, 0, 0, 0, 0...  \n",
       "6  [[61, 6, 62, 8, 41, 42, 0, 0, 0, 0, 0, 0, 0, 0...  "
      ]
     },
     "execution_count": 63,
     "metadata": {},
     "output_type": "execute_result"
    }
   ],
   "source": [
    "df_train.head()"
   ]
  },
  {
   "cell_type": "code",
   "execution_count": 64,
   "metadata": {},
   "outputs": [],
   "source": [
    "code = []\n",
    "comment = []\n",
    "for index,row in df_train.iterrows():\n",
    "    code.append((row['code_vec'])[0])\n",
    "    comment.append((row['comment_vec'])[0])"
   ]
  },
  {
   "cell_type": "code",
   "execution_count": 65,
   "metadata": {},
   "outputs": [],
   "source": [
    "code_len = np.array(code[0].shape)\n",
    "comment_len = np.array(comment[0].shape)"
   ]
  },
  {
   "cell_type": "code",
   "execution_count": 66,
   "metadata": {},
   "outputs": [],
   "source": [
    "class SeqEncoder(nn.Module):\n",
    "    def __init__(self, vocab_size, emb_size, hidden_size, n_layers=1):\n",
    "        super(SeqEncoder, self).__init__()\n",
    "        self.emb_size = emb_size\n",
    "        self.hidden_size = hidden_size\n",
    "        self.n_layers = n_layers\n",
    "        self.embedding = nn.Embedding(vocab_size, emb_size, padding_idx=0)\n",
    "        self.lstm = nn.LSTM(emb_size, hidden_size, batch_first=True, bidirectional=True)\n",
    "        self.init_weights()\n",
    "        \n",
    "    def init_weights(self):\n",
    "        nn.init.uniform_(self.embedding.weight, -0.1, 0.1)\n",
    "        nn.init.constant_(self.embedding.weight[0], 0)\n",
    "        for name, param in self.lstm.named_parameters():\n",
    "            if 'weight' in name or 'bias' in name: \n",
    "                param.data.uniform_(-0.1, 0.1)\n",
    "\n",
    "    def forward(self, inputs, input_lens=None): \n",
    "        '''\n",
    "        input_lens: [batch_size]\n",
    "        '''\n",
    "        batch_size, seq_len=inputs.size()\n",
    "        inputs = self.embedding(inputs)  # input: [batch_sz x seq_len]  embedded: [batch_sz x seq_len x emb_sz]\n",
    "        inputs = F.dropout(inputs, 0.25, self.training)\n",
    "        \n",
    "        #if input_lens is not None:# sort and pack sequence \n",
    "        #    input_lens_sorted, indices = input_lens.sort(descending=True)\n",
    "        #    inputs_sorted = inputs.index_select(0, indices)        \n",
    "        #    inputs = pack_padded_sequence(inputs_sorted, input_lens_sorted.data.tolist(), batch_first=True)\n",
    "            \n",
    "        hids, (h_n, c_n) = self.lstm(inputs)  \n",
    "        \n",
    "        #if input_lens is not None: # reorder and pad\n",
    "        #    _, inv_indices = indices.sort()\n",
    "        #    hids, lens = pad_packed_sequence(hids, batch_first=True) # hids:[batch_size x seq_len x (n_dir*hid_sz)](biRNN)\n",
    "        #    hids = F.dropout(hids, p=0.25, training=self.training)\n",
    "        #    hids = hids.index_select(0, inv_indices)\n",
    "        #    h_n = h_n.index_select(1, inv_indices)\n",
    "        h_n = h_n.view(self.n_layers, 2, batch_size, self.hidden_size) #[n_layers x n_dirs x batch_sz x hid_sz]\n",
    "        h_n = h_n[-1] \n",
    "        encoding3 = torch.cat((h_n[0], h_n[1]), dim=1)\n",
    "        return encoding3 "
   ]
  },
  {
   "cell_type": "code",
   "execution_count": 67,
   "metadata": {},
   "outputs": [],
   "source": [
    "class BOWEncoder(nn.Module):\n",
    "  \n",
    "    def __init__(self, vocab_size, emb_size, hidden_size):\n",
    "        super(BOWEncoder, self).__init__()\n",
    "        self.emb_size=emb_size\n",
    "        self.hidden_size = hidden_size\n",
    "        self.embedding = nn.Embedding(vocab_size, emb_size)\n",
    "        \n",
    "        self.init_weights()\n",
    "        \n",
    "    def init_weights(self):\n",
    "        nn.init.uniform_(self.embedding.weight, -0.1, 0.1)\n",
    "        nn.init.constant_(self.embedding.weight[0], 0)\n",
    "        \n",
    "    def forward(self, input, input_len=None): \n",
    "        batch_size, seq_len =input.size()\n",
    "        embedded = self.embedding(input)  \n",
    "        embedded= F.dropout(embedded, 0.25, self.training) \n",
    "        maxpooling = nn.MaxPool1d(kernel_size = seq_len, stride=seq_len)\n",
    "        output_pool = maxpooling(embedded.transpose(1,2)).squeeze(2) \n",
    "        encoding = output_pool\n",
    "        return encoding"
   ]
  },
  {
   "cell_type": "code",
   "execution_count": 77,
   "metadata": {},
   "outputs": [],
   "source": [
    "class JointEmbedder(nn.Module):\n",
    "\n",
    "    def __init__(self):\n",
    "        super(JointEmbedder, self).__init__()\n",
    "        self.margin = 0.04\n",
    "               \n",
    "        \n",
    "        self.code_encoder=BOWEncoder(10000,512,512)\n",
    "        self.comment_encoder=SeqEncoder(10000,512,1024)\n",
    "\n",
    "        \n",
    "        self.w_code = nn.Linear(512, 512)\n",
    "        self.w_comment = nn.Linear(2*1024, 512)\n",
    "        \n",
    "        self.init_weights()\n",
    "        \n",
    "    def init_weights(self):# Initialize Linear Weight \n",
    "        for m in [self.w_code]:        \n",
    "            m.weight.data.uniform_(-0.1, 0.1)#nn.init.xavier_normal_(m.weight)\n",
    "            nn.init.constant_(m.bias, 0.) \n",
    "            \n",
    "    def code_encoding(self, code_tokens, code_len):\n",
    "        code_repr=self.code_encoder(code_tokens, code_len)\n",
    "        code_repr = self.w_code(code_repr)\n",
    "        return code_repr\n",
    "        \n",
    "    def comment_encoding(self, comment, comment_len):\n",
    "        comment_repr=self.comment_encoder(comment, comment_len)\n",
    "        comment_repr=self.w_comment(comment_repr)\n",
    "        return comment_repr\n",
    "    \n",
    "    def similarity(self, code_vec, comment_vec):\n",
    "   \n",
    "            return F.cosine_similarity(code_vec, comment_vec)\n",
    "      \n",
    "    \n",
    "    def forward(self, code, code_len, comment_anchor, comment_anchor_len, comment_neg, comment_neg_len):\n",
    "        batch_size=code.size(0)\n",
    "        code_repr=self.code_encoding(code, code_len)\n",
    "        comment_anchor_repr=self.comment_encoding(comment_anchor, comment_anchor_len)\n",
    "        comment_neg_repr=self.comment_encoding(comment_neg, comment_neg_len)\n",
    "    \n",
    "        anchor_sim = self.similarity(code_repr, comment_anchor_repr)\n",
    "        neg_sim = self.similarity(code_repr, comment_neg_repr) # [batch_sz x 1]\n",
    "        \n",
    "        #loss=(self.margin-anchor_sim+neg_sim).clamp(min=1e-6).mean()\n",
    "        loss=(self.margin-anchor_sim+neg_sim).mean()\n",
    "        \n",
    "        return loss"
   ]
  },
  {
   "cell_type": "code",
   "execution_count": 78,
   "metadata": {},
   "outputs": [],
   "source": [
    "model = JointEmbedder()"
   ]
  },
  {
   "cell_type": "code",
   "execution_count": 79,
   "metadata": {},
   "outputs": [],
   "source": [
    "testcode = torch.from_numpy(np.array(code[0:2]))\n",
    "testcomm = torch.from_numpy(np.array(comment[0:2]))\n",
    "testnegcomm = torch.from_numpy(np.array(comment[4:6]))"
   ]
  },
  {
   "cell_type": "code",
   "execution_count": 80,
   "metadata": {},
   "outputs": [
    {
     "data": {
      "text/plain": [
       "tensor(0.0425, grad_fn=<MeanBackward0>)"
      ]
     },
     "execution_count": 80,
     "metadata": {},
     "output_type": "execute_result"
    }
   ],
   "source": [
    "model(testcode,code_len,testcomm,comment_len,testnegcomm,comment_len)"
   ]
  },
  {
   "cell_type": "code",
   "execution_count": 81,
   "metadata": {},
   "outputs": [],
   "source": [
    "def train(data_loader):\n",
    "    #optimizer = torch.optim.AdamW(optimizer_grouped_parameters, lr=learning_rate, eps=adam_epsilon)        \n",
    "    #scheduler = get_cosine_schedule_with_warmup(optimizer, num_warmup_steps=warmup_steps,num_training_steps=len(data_loader)*epochs)\n",
    "    optimizer = torch.optim.Adam(model.parameters())\n",
    "    n_iters = len(data_loader)\n",
    "  \n",
    "    for epoch in range(10): \n",
    "       \n",
    "        losses=[]\n",
    "        for batch in data_loader:\n",
    "\n",
    "            model.train()\n",
    "            #batch_gpu = [tensor.to(device) for tensor in batch]\n",
    "            #loss = model(*batch_gpu)\n",
    "            loss = model(*batch)\n",
    "            optimizer.zero_grad()\n",
    "            loss.backward()\n",
    "            optimizer.step()\n",
    "            #scheduler.step()\n",
    "            model.zero_grad()\n",
    "            losses.append(loss.item())\n",
    "            print(loss.item())"
   ]
  },
  {
   "cell_type": "code",
   "execution_count": 82,
   "metadata": {},
   "outputs": [],
   "source": [
    "class CodeSearchDataset(data.Dataset):\n",
    "    def __init__(self, code, code_len, comment=None, comment_len=None):\n",
    "        \n",
    "        self.code = code\n",
    "        self.code_len = code_len\n",
    "        self.data_len = len(code)\n",
    "        self.comment = comment\n",
    "        self.comment_len = comment_len\n",
    "        \n",
    "    def __getitem__(self, idx):\n",
    "        \n",
    "        cd = torch.from_numpy(self.code[idx])\n",
    "        cd = cd.unsqueeze(dim=0)\n",
    "        cd_len = torch.from_numpy(self.code_len)\n",
    "        \n",
    "        #if self.training:\n",
    "        good_desc = torch.from_numpy(self.comment[idx])\n",
    "        good_desc = good_desc.unsqueeze(dim=0)\n",
    "        good_desc_len = torch.from_numpy(self.comment_len)\n",
    "            \n",
    "        rand_idx=random.randint(0, self.data_len-1)\n",
    "            \n",
    "        bad_desc = torch.from_numpy(self.comment[rand_idx])\n",
    "        bad_desc = bad_desc.unsqueeze(dim=0)\n",
    "        bad_desc_len = torch.from_numpy(self.comment_len)\n",
    "            \n",
    "        return cd, cd_len, good_desc, good_desc_len, bad_desc, bad_desc_len\n",
    "        #return cd, code_len\n",
    "    \n",
    "    def __len__(self):\n",
    "        return(self.data_len)"
   ]
  },
  {
   "cell_type": "code",
   "execution_count": 83,
   "metadata": {},
   "outputs": [],
   "source": [
    "test = CodeSearchDataset(code, code_len, comment, comment_len)"
   ]
  },
  {
   "cell_type": "code",
   "execution_count": 84,
   "metadata": {},
   "outputs": [
    {
     "name": "stdout",
     "output_type": "stream",
     "text": [
      "<class 'torch.Tensor'>\n"
     ]
    }
   ],
   "source": [
    "for i in test:\n",
    "    print(type(i[1]))\n",
    "    break"
   ]
  },
  {
   "cell_type": "code",
   "execution_count": 85,
   "metadata": {},
   "outputs": [
    {
     "name": "stdout",
     "output_type": "stream",
     "text": [
      "0.02703312784433365\n",
      "-0.21143141388893127\n",
      "0.03513491153717041\n",
      "0.03711444139480591\n",
      "0.03110271692276001\n",
      "0.027284443378448486\n",
      "-0.02784562110900879\n",
      "0.005425155162811279\n",
      "-0.1734704077243805\n",
      "-0.039711833000183105\n",
      "-1.015894889831543\n",
      "-1.2918078899383545\n",
      "-0.870229959487915\n",
      "0.28301072120666504\n",
      "-1.7397842407226562\n"
     ]
    },
    {
     "ename": "KeyboardInterrupt",
     "evalue": "",
     "output_type": "error",
     "traceback": [
      "\u001b[1;31m---------------------------------------------------------------------------\u001b[0m",
      "\u001b[1;31mKeyboardInterrupt\u001b[0m                         Traceback (most recent call last)",
      "\u001b[1;32m<ipython-input-85-c595b66d2f5e>\u001b[0m in \u001b[0;36m<module>\u001b[1;34m\u001b[0m\n\u001b[1;32m----> 1\u001b[1;33m \u001b[0mtrain\u001b[0m\u001b[1;33m(\u001b[0m\u001b[0mtest\u001b[0m\u001b[1;33m)\u001b[0m\u001b[1;33m\u001b[0m\u001b[1;33m\u001b[0m\u001b[0m\n\u001b[0m",
      "\u001b[1;32m<ipython-input-81-efcc8db66f03>\u001b[0m in \u001b[0;36mtrain\u001b[1;34m(data_loader)\u001b[0m\n\u001b[0;32m     13\u001b[0m             \u001b[1;31m#batch_gpu = [tensor.to(device) for tensor in batch]\u001b[0m\u001b[1;33m\u001b[0m\u001b[1;33m\u001b[0m\u001b[1;33m\u001b[0m\u001b[0m\n\u001b[0;32m     14\u001b[0m             \u001b[1;31m#loss = model(*batch_gpu)\u001b[0m\u001b[1;33m\u001b[0m\u001b[1;33m\u001b[0m\u001b[1;33m\u001b[0m\u001b[0m\n\u001b[1;32m---> 15\u001b[1;33m             \u001b[0mloss\u001b[0m \u001b[1;33m=\u001b[0m \u001b[0mmodel\u001b[0m\u001b[1;33m(\u001b[0m\u001b[1;33m*\u001b[0m\u001b[0mbatch\u001b[0m\u001b[1;33m)\u001b[0m\u001b[1;33m\u001b[0m\u001b[1;33m\u001b[0m\u001b[0m\n\u001b[0m\u001b[0;32m     16\u001b[0m             \u001b[0moptimizer\u001b[0m\u001b[1;33m.\u001b[0m\u001b[0mzero_grad\u001b[0m\u001b[1;33m(\u001b[0m\u001b[1;33m)\u001b[0m\u001b[1;33m\u001b[0m\u001b[1;33m\u001b[0m\u001b[0m\n\u001b[0;32m     17\u001b[0m             \u001b[0mloss\u001b[0m\u001b[1;33m.\u001b[0m\u001b[0mbackward\u001b[0m\u001b[1;33m(\u001b[0m\u001b[1;33m)\u001b[0m\u001b[1;33m\u001b[0m\u001b[1;33m\u001b[0m\u001b[0m\n",
      "\u001b[1;32mC:\\ProgramData\\Anaconda3\\lib\\site-packages\\torch\\nn\\modules\\module.py\u001b[0m in \u001b[0;36m_call_impl\u001b[1;34m(self, *input, **kwargs)\u001b[0m\n\u001b[0;32m   1049\u001b[0m         if not (self._backward_hooks or self._forward_hooks or self._forward_pre_hooks or _global_backward_hooks\n\u001b[0;32m   1050\u001b[0m                 or _global_forward_hooks or _global_forward_pre_hooks):\n\u001b[1;32m-> 1051\u001b[1;33m             \u001b[1;32mreturn\u001b[0m \u001b[0mforward_call\u001b[0m\u001b[1;33m(\u001b[0m\u001b[1;33m*\u001b[0m\u001b[0minput\u001b[0m\u001b[1;33m,\u001b[0m \u001b[1;33m**\u001b[0m\u001b[0mkwargs\u001b[0m\u001b[1;33m)\u001b[0m\u001b[1;33m\u001b[0m\u001b[1;33m\u001b[0m\u001b[0m\n\u001b[0m\u001b[0;32m   1052\u001b[0m         \u001b[1;31m# Do not call functions when jit is used\u001b[0m\u001b[1;33m\u001b[0m\u001b[1;33m\u001b[0m\u001b[1;33m\u001b[0m\u001b[0m\n\u001b[0;32m   1053\u001b[0m         \u001b[0mfull_backward_hooks\u001b[0m\u001b[1;33m,\u001b[0m \u001b[0mnon_full_backward_hooks\u001b[0m \u001b[1;33m=\u001b[0m \u001b[1;33m[\u001b[0m\u001b[1;33m]\u001b[0m\u001b[1;33m,\u001b[0m \u001b[1;33m[\u001b[0m\u001b[1;33m]\u001b[0m\u001b[1;33m\u001b[0m\u001b[1;33m\u001b[0m\u001b[0m\n",
      "\u001b[1;32m<ipython-input-77-3b863125b031>\u001b[0m in \u001b[0;36mforward\u001b[1;34m(self, code, code_len, comment_anchor, comment_anchor_len, comment_neg, comment_neg_len)\u001b[0m\n\u001b[0;32m     38\u001b[0m         \u001b[0mbatch_size\u001b[0m\u001b[1;33m=\u001b[0m\u001b[0mcode\u001b[0m\u001b[1;33m.\u001b[0m\u001b[0msize\u001b[0m\u001b[1;33m(\u001b[0m\u001b[1;36m0\u001b[0m\u001b[1;33m)\u001b[0m\u001b[1;33m\u001b[0m\u001b[1;33m\u001b[0m\u001b[0m\n\u001b[0;32m     39\u001b[0m         \u001b[0mcode_repr\u001b[0m\u001b[1;33m=\u001b[0m\u001b[0mself\u001b[0m\u001b[1;33m.\u001b[0m\u001b[0mcode_encoding\u001b[0m\u001b[1;33m(\u001b[0m\u001b[0mcode\u001b[0m\u001b[1;33m,\u001b[0m \u001b[0mcode_len\u001b[0m\u001b[1;33m)\u001b[0m\u001b[1;33m\u001b[0m\u001b[1;33m\u001b[0m\u001b[0m\n\u001b[1;32m---> 40\u001b[1;33m         \u001b[0mcomment_anchor_repr\u001b[0m\u001b[1;33m=\u001b[0m\u001b[0mself\u001b[0m\u001b[1;33m.\u001b[0m\u001b[0mcomment_encoding\u001b[0m\u001b[1;33m(\u001b[0m\u001b[0mcomment_anchor\u001b[0m\u001b[1;33m,\u001b[0m \u001b[0mcomment_anchor_len\u001b[0m\u001b[1;33m)\u001b[0m\u001b[1;33m\u001b[0m\u001b[1;33m\u001b[0m\u001b[0m\n\u001b[0m\u001b[0;32m     41\u001b[0m         \u001b[0mcomment_neg_repr\u001b[0m\u001b[1;33m=\u001b[0m\u001b[0mself\u001b[0m\u001b[1;33m.\u001b[0m\u001b[0mcomment_encoding\u001b[0m\u001b[1;33m(\u001b[0m\u001b[0mcomment_neg\u001b[0m\u001b[1;33m,\u001b[0m \u001b[0mcomment_neg_len\u001b[0m\u001b[1;33m)\u001b[0m\u001b[1;33m\u001b[0m\u001b[1;33m\u001b[0m\u001b[0m\n\u001b[0;32m     42\u001b[0m \u001b[1;33m\u001b[0m\u001b[0m\n",
      "\u001b[1;32m<ipython-input-77-3b863125b031>\u001b[0m in \u001b[0;36mcomment_encoding\u001b[1;34m(self, comment, comment_len)\u001b[0m\n\u001b[0;32m     26\u001b[0m \u001b[1;33m\u001b[0m\u001b[0m\n\u001b[0;32m     27\u001b[0m     \u001b[1;32mdef\u001b[0m \u001b[0mcomment_encoding\u001b[0m\u001b[1;33m(\u001b[0m\u001b[0mself\u001b[0m\u001b[1;33m,\u001b[0m \u001b[0mcomment\u001b[0m\u001b[1;33m,\u001b[0m \u001b[0mcomment_len\u001b[0m\u001b[1;33m)\u001b[0m\u001b[1;33m:\u001b[0m\u001b[1;33m\u001b[0m\u001b[1;33m\u001b[0m\u001b[0m\n\u001b[1;32m---> 28\u001b[1;33m         \u001b[0mcomment_repr\u001b[0m\u001b[1;33m=\u001b[0m\u001b[0mself\u001b[0m\u001b[1;33m.\u001b[0m\u001b[0mcomment_encoder\u001b[0m\u001b[1;33m(\u001b[0m\u001b[0mcomment\u001b[0m\u001b[1;33m,\u001b[0m \u001b[0mcomment_len\u001b[0m\u001b[1;33m)\u001b[0m\u001b[1;33m\u001b[0m\u001b[1;33m\u001b[0m\u001b[0m\n\u001b[0m\u001b[0;32m     29\u001b[0m         \u001b[0mcomment_repr\u001b[0m\u001b[1;33m=\u001b[0m\u001b[0mself\u001b[0m\u001b[1;33m.\u001b[0m\u001b[0mw_comment\u001b[0m\u001b[1;33m(\u001b[0m\u001b[0mcomment_repr\u001b[0m\u001b[1;33m)\u001b[0m\u001b[1;33m\u001b[0m\u001b[1;33m\u001b[0m\u001b[0m\n\u001b[0;32m     30\u001b[0m         \u001b[1;32mreturn\u001b[0m \u001b[0mcomment_repr\u001b[0m\u001b[1;33m\u001b[0m\u001b[1;33m\u001b[0m\u001b[0m\n",
      "\u001b[1;32mC:\\ProgramData\\Anaconda3\\lib\\site-packages\\torch\\nn\\modules\\module.py\u001b[0m in \u001b[0;36m_call_impl\u001b[1;34m(self, *input, **kwargs)\u001b[0m\n\u001b[0;32m   1049\u001b[0m         if not (self._backward_hooks or self._forward_hooks or self._forward_pre_hooks or _global_backward_hooks\n\u001b[0;32m   1050\u001b[0m                 or _global_forward_hooks or _global_forward_pre_hooks):\n\u001b[1;32m-> 1051\u001b[1;33m             \u001b[1;32mreturn\u001b[0m \u001b[0mforward_call\u001b[0m\u001b[1;33m(\u001b[0m\u001b[1;33m*\u001b[0m\u001b[0minput\u001b[0m\u001b[1;33m,\u001b[0m \u001b[1;33m**\u001b[0m\u001b[0mkwargs\u001b[0m\u001b[1;33m)\u001b[0m\u001b[1;33m\u001b[0m\u001b[1;33m\u001b[0m\u001b[0m\n\u001b[0m\u001b[0;32m   1052\u001b[0m         \u001b[1;31m# Do not call functions when jit is used\u001b[0m\u001b[1;33m\u001b[0m\u001b[1;33m\u001b[0m\u001b[1;33m\u001b[0m\u001b[0m\n\u001b[0;32m   1053\u001b[0m         \u001b[0mfull_backward_hooks\u001b[0m\u001b[1;33m,\u001b[0m \u001b[0mnon_full_backward_hooks\u001b[0m \u001b[1;33m=\u001b[0m \u001b[1;33m[\u001b[0m\u001b[1;33m]\u001b[0m\u001b[1;33m,\u001b[0m \u001b[1;33m[\u001b[0m\u001b[1;33m]\u001b[0m\u001b[1;33m\u001b[0m\u001b[1;33m\u001b[0m\u001b[0m\n",
      "\u001b[1;32m<ipython-input-66-57914cd08eec>\u001b[0m in \u001b[0;36mforward\u001b[1;34m(self, inputs, input_lens)\u001b[0m\n\u001b[0;32m     29\u001b[0m         \u001b[1;31m#    inputs = pack_padded_sequence(inputs_sorted, input_lens_sorted.data.tolist(), batch_first=True)\u001b[0m\u001b[1;33m\u001b[0m\u001b[1;33m\u001b[0m\u001b[1;33m\u001b[0m\u001b[0m\n\u001b[0;32m     30\u001b[0m \u001b[1;33m\u001b[0m\u001b[0m\n\u001b[1;32m---> 31\u001b[1;33m         \u001b[0mhids\u001b[0m\u001b[1;33m,\u001b[0m \u001b[1;33m(\u001b[0m\u001b[0mh_n\u001b[0m\u001b[1;33m,\u001b[0m \u001b[0mc_n\u001b[0m\u001b[1;33m)\u001b[0m \u001b[1;33m=\u001b[0m \u001b[0mself\u001b[0m\u001b[1;33m.\u001b[0m\u001b[0mlstm\u001b[0m\u001b[1;33m(\u001b[0m\u001b[0minputs\u001b[0m\u001b[1;33m)\u001b[0m\u001b[1;33m\u001b[0m\u001b[1;33m\u001b[0m\u001b[0m\n\u001b[0m\u001b[0;32m     32\u001b[0m \u001b[1;33m\u001b[0m\u001b[0m\n\u001b[0;32m     33\u001b[0m         \u001b[1;31m#if input_lens is not None: # reorder and pad\u001b[0m\u001b[1;33m\u001b[0m\u001b[1;33m\u001b[0m\u001b[1;33m\u001b[0m\u001b[0m\n",
      "\u001b[1;32mC:\\ProgramData\\Anaconda3\\lib\\site-packages\\torch\\nn\\modules\\module.py\u001b[0m in \u001b[0;36m_call_impl\u001b[1;34m(self, *input, **kwargs)\u001b[0m\n\u001b[0;32m   1049\u001b[0m         if not (self._backward_hooks or self._forward_hooks or self._forward_pre_hooks or _global_backward_hooks\n\u001b[0;32m   1050\u001b[0m                 or _global_forward_hooks or _global_forward_pre_hooks):\n\u001b[1;32m-> 1051\u001b[1;33m             \u001b[1;32mreturn\u001b[0m \u001b[0mforward_call\u001b[0m\u001b[1;33m(\u001b[0m\u001b[1;33m*\u001b[0m\u001b[0minput\u001b[0m\u001b[1;33m,\u001b[0m \u001b[1;33m**\u001b[0m\u001b[0mkwargs\u001b[0m\u001b[1;33m)\u001b[0m\u001b[1;33m\u001b[0m\u001b[1;33m\u001b[0m\u001b[0m\n\u001b[0m\u001b[0;32m   1052\u001b[0m         \u001b[1;31m# Do not call functions when jit is used\u001b[0m\u001b[1;33m\u001b[0m\u001b[1;33m\u001b[0m\u001b[1;33m\u001b[0m\u001b[0m\n\u001b[0;32m   1053\u001b[0m         \u001b[0mfull_backward_hooks\u001b[0m\u001b[1;33m,\u001b[0m \u001b[0mnon_full_backward_hooks\u001b[0m \u001b[1;33m=\u001b[0m \u001b[1;33m[\u001b[0m\u001b[1;33m]\u001b[0m\u001b[1;33m,\u001b[0m \u001b[1;33m[\u001b[0m\u001b[1;33m]\u001b[0m\u001b[1;33m\u001b[0m\u001b[1;33m\u001b[0m\u001b[0m\n",
      "\u001b[1;32mC:\\ProgramData\\Anaconda3\\lib\\site-packages\\torch\\nn\\modules\\rnn.py\u001b[0m in \u001b[0;36mforward\u001b[1;34m(self, input, hx)\u001b[0m\n\u001b[0;32m    677\u001b[0m         \u001b[0mself\u001b[0m\u001b[1;33m.\u001b[0m\u001b[0mcheck_forward_args\u001b[0m\u001b[1;33m(\u001b[0m\u001b[0minput\u001b[0m\u001b[1;33m,\u001b[0m \u001b[0mhx\u001b[0m\u001b[1;33m,\u001b[0m \u001b[0mbatch_sizes\u001b[0m\u001b[1;33m)\u001b[0m\u001b[1;33m\u001b[0m\u001b[1;33m\u001b[0m\u001b[0m\n\u001b[0;32m    678\u001b[0m         \u001b[1;32mif\u001b[0m \u001b[0mbatch_sizes\u001b[0m \u001b[1;32mis\u001b[0m \u001b[1;32mNone\u001b[0m\u001b[1;33m:\u001b[0m\u001b[1;33m\u001b[0m\u001b[1;33m\u001b[0m\u001b[0m\n\u001b[1;32m--> 679\u001b[1;33m             result = _VF.lstm(input, hx, self._flat_weights, self.bias, self.num_layers,\n\u001b[0m\u001b[0;32m    680\u001b[0m                               self.dropout, self.training, self.bidirectional, self.batch_first)\n\u001b[0;32m    681\u001b[0m         \u001b[1;32melse\u001b[0m\u001b[1;33m:\u001b[0m\u001b[1;33m\u001b[0m\u001b[1;33m\u001b[0m\u001b[0m\n",
      "\u001b[1;31mKeyboardInterrupt\u001b[0m: "
     ]
    }
   ],
   "source": [
    "train(test)"
   ]
  },
  {
   "cell_type": "code",
   "execution_count": null,
   "metadata": {},
   "outputs": [],
   "source": []
  }
 ],
 "metadata": {
  "kernelspec": {
   "display_name": "Python 3",
   "language": "python",
   "name": "python3"
  },
  "language_info": {
   "codemirror_mode": {
    "name": "ipython",
    "version": 3
   },
   "file_extension": ".py",
   "mimetype": "text/x-python",
   "name": "python",
   "nbconvert_exporter": "python",
   "pygments_lexer": "ipython3",
   "version": "3.8.5"
  }
 },
 "nbformat": 4,
 "nbformat_minor": 4
}
