{
 "cells": [
  {
   "cell_type": "code",
   "execution_count": 56,
   "metadata": {},
   "outputs": [],
   "source": [
    "import torch\n",
    "import pandas as pd\n",
    "import numpy as np\n",
    "pd.options.mode.chained_assignment = None\n",
    "import sctokenizer\n",
    "import spacy\n",
    "import string\n",
    "import re\n",
    "from collections import Counter\n",
    "\n",
    "import random\n",
    "import torch\n",
    "import torch.nn as nn\n",
    "import torch.nn.init as weight_init\n",
    "import torch.nn.functional as F\n",
    "#from torch.nn.utils.rnn import pack_padded_sequence, pad_packed_sequence\n",
    "import torch.utils.data as data\n",
    "from torch import optim"
   ]
  },
  {
   "cell_type": "code",
   "execution_count": 2,
   "metadata": {},
   "outputs": [
    {
     "data": {
      "text/plain": [
       "'NVIDIA GeForce GTX 1660 Ti'"
      ]
     },
     "execution_count": 2,
     "metadata": {},
     "output_type": "execute_result"
    }
   ],
   "source": [
    "torch.cuda.get_device_name(0)"
   ]
  },
  {
   "cell_type": "code",
   "execution_count": 96,
   "metadata": {},
   "outputs": [],
   "source": [
    "if torch.cuda.is_available():\n",
    "    device = torch.device('cuda')\n",
    "else:\n",
    "    device = torch.device('cpu')"
   ]
  },
  {
   "cell_type": "code",
   "execution_count": 3,
   "metadata": {},
   "outputs": [],
   "source": [
    "df = pd.read_csv(\"E:/BITS/2nd Year/Industry project/Dataset/c_data_twocols.zip\")"
   ]
  },
  {
   "cell_type": "code",
   "execution_count": 4,
   "metadata": {},
   "outputs": [],
   "source": [
    "df = df.replace(r'^\\s*$', np.nan, regex=True)"
   ]
  },
  {
   "cell_type": "code",
   "execution_count": 5,
   "metadata": {},
   "outputs": [
    {
     "data": {
      "text/html": [
       "<div>\n",
       "<style scoped>\n",
       "    .dataframe tbody tr th:only-of-type {\n",
       "        vertical-align: middle;\n",
       "    }\n",
       "\n",
       "    .dataframe tbody tr th {\n",
       "        vertical-align: top;\n",
       "    }\n",
       "\n",
       "    .dataframe thead th {\n",
       "        text-align: right;\n",
       "    }\n",
       "</style>\n",
       "<table border=\"1\" class=\"dataframe\">\n",
       "  <thead>\n",
       "    <tr style=\"text-align: right;\">\n",
       "      <th></th>\n",
       "      <th>code</th>\n",
       "      <th>comment</th>\n",
       "    </tr>\n",
       "  </thead>\n",
       "  <tbody>\n",
       "    <tr>\n",
       "      <th>0</th>\n",
       "      <td>struct _CameraFile {\\n        char\\t\\tmime_typ...</td>\n",
       "      <td>NaN</td>\n",
       "    </tr>\n",
       "    <tr>\n",
       "      <th>1</th>\n",
       "      <td>struct _CameraFilesystem {\\n\\tCameraFilesystem...</td>\n",
       "      <td>The internals of the #CameraFilesystem are onl...</td>\n",
       "    </tr>\n",
       "    <tr>\n",
       "      <th>2</th>\n",
       "      <td>struct _CameraWidget {\\n\\tCameraWidgetType typ...</td>\n",
       "      <td>CameraWidget: The internals of the #CameraWidg...</td>\n",
       "    </tr>\n",
       "    <tr>\n",
       "      <th>3</th>\n",
       "      <td>struct _entry {\\n\\tchar *name;\\n\\tchar *value;...</td>\n",
       "      <td>NaN</td>\n",
       "    </tr>\n",
       "    <tr>\n",
       "      <th>4</th>\n",
       "      <td>\\tchar error[2048];\\t/**&lt; Internal kept error ...</td>\n",
       "      <td>Internal kept error message.</td>\n",
       "    </tr>\n",
       "  </tbody>\n",
       "</table>\n",
       "</div>"
      ],
      "text/plain": [
       "                                                code  \\\n",
       "0  struct _CameraFile {\\n        char\\t\\tmime_typ...   \n",
       "1  struct _CameraFilesystem {\\n\\tCameraFilesystem...   \n",
       "2  struct _CameraWidget {\\n\\tCameraWidgetType typ...   \n",
       "3  struct _entry {\\n\\tchar *name;\\n\\tchar *value;...   \n",
       "4  \\tchar error[2048];\\t/**< Internal kept error ...   \n",
       "\n",
       "                                             comment  \n",
       "0                                                NaN  \n",
       "1  The internals of the #CameraFilesystem are onl...  \n",
       "2  CameraWidget: The internals of the #CameraWidg...  \n",
       "3                                                NaN  \n",
       "4                       Internal kept error message.  "
      ]
     },
     "execution_count": 5,
     "metadata": {},
     "output_type": "execute_result"
    }
   ],
   "source": [
    "df.head()"
   ]
  },
  {
   "cell_type": "code",
   "execution_count": 6,
   "metadata": {},
   "outputs": [],
   "source": [
    "df = df.dropna(axis=0)"
   ]
  },
  {
   "cell_type": "code",
   "execution_count": 7,
   "metadata": {},
   "outputs": [],
   "source": [
    "df['code'] = df['code'].astype('str')\n",
    "df['comment'] = df['comment'].astype('str')"
   ]
  },
  {
   "cell_type": "code",
   "execution_count": 8,
   "metadata": {},
   "outputs": [],
   "source": [
    "df_train = df.head(10000)"
   ]
  },
  {
   "cell_type": "code",
   "execution_count": 9,
   "metadata": {},
   "outputs": [],
   "source": [
    "from sctokenizer import CppTokenizer\n",
    "\n",
    "ctokenizer = CppTokenizer()"
   ]
  },
  {
   "cell_type": "code",
   "execution_count": 10,
   "metadata": {},
   "outputs": [],
   "source": [
    "from spacy.lang.en.stop_words import STOP_WORDS\n",
    "\n",
    "spacy_nlp = spacy.load('en_core_web_sm')\n",
    "\n",
    "punctuations = string.punctuation\n",
    "stop_words = spacy.lang.en.stop_words.STOP_WORDS"
   ]
  },
  {
   "cell_type": "code",
   "execution_count": 11,
   "metadata": {},
   "outputs": [],
   "source": [
    "def spacy_tokenizer(sentence):\n",
    " \n",
    "    #remove distracting single quotes\n",
    "    sentence = re.sub('\\'','',sentence)\n",
    "\n",
    "    #remove digits adnd words containing digits\n",
    "    sentence = re.sub('\\w*\\d\\w*','',sentence)\n",
    "\n",
    "    #replace extra spaces with single space\n",
    "    sentence = re.sub(' +',' ',sentence)\n",
    "\n",
    "    #remove unwanted lines starting from special charcters\n",
    "    sentence = re.sub(r'\\n: \\'\\'.*','',sentence)\n",
    "    sentence = re.sub(r'\\n!.*','',sentence)\n",
    "    sentence = re.sub(r'^:\\'\\'.*','',sentence)\n",
    "    \n",
    "    #remove non-breaking new line characters\n",
    "    sentence = re.sub(r'\\n',' ',sentence)\n",
    "    \n",
    "    #remove punctunations\n",
    "    sentence = re.sub(r'[^\\w\\s]',' ',sentence)\n",
    "    \n",
    "    #creating token object\n",
    "    tokens = spacy_nlp(sentence)\n",
    "    \n",
    "    #lower, strip and lemmatize\n",
    "    tokens = [word.lemma_.lower().strip() if word.lemma_ != \"-PRON-\" else word.lower_ for word in tokens]\n",
    "    \n",
    "    #remove stopwords, and exclude words less than 2 characters\n",
    "    tokens = [word for word in tokens if word not in stop_words and word not in punctuations and len(word) > 2]\n",
    "    \n",
    "    #return tokens\n",
    "    return tokens"
   ]
  },
  {
   "cell_type": "code",
   "execution_count": 12,
   "metadata": {},
   "outputs": [],
   "source": [
    "def str_code(x):\n",
    "    tokens = ctokenizer.tokenize(x)\n",
    "    string_tok = [str(i.token_value)+\" \"+str(i.token_type) for i in tokens]\n",
    "    return string_tok"
   ]
  },
  {
   "cell_type": "code",
   "execution_count": 13,
   "metadata": {},
   "outputs": [
    {
     "data": {
      "text/plain": [
       "['struct TokenType.KEYWORD',\n",
       " '_ TokenType.SPECIAL_SYMBOL',\n",
       " 'CameraFilesystem TokenType.IDENTIFIER',\n",
       " '{ TokenType.SPECIAL_SYMBOL',\n",
       " 'CameraFilesystemFolder TokenType.IDENTIFIER',\n",
       " '* TokenType.OPERATOR',\n",
       " 'rootfolder TokenType.IDENTIFIER',\n",
       " '; TokenType.SPECIAL_SYMBOL',\n",
       " 'CameraFilesystemFile TokenType.IDENTIFIER',\n",
       " '* TokenType.OPERATOR',\n",
       " 'lru_first TokenType.IDENTIFIER',\n",
       " '; TokenType.SPECIAL_SYMBOL',\n",
       " 'CameraFilesystemFile TokenType.IDENTIFIER',\n",
       " '* TokenType.OPERATOR',\n",
       " 'lru_last TokenType.IDENTIFIER',\n",
       " '; TokenType.SPECIAL_SYMBOL',\n",
       " 'unsigned TokenType.KEYWORD',\n",
       " 'long TokenType.KEYWORD',\n",
       " 'int TokenType.KEYWORD',\n",
       " 'lru_size TokenType.IDENTIFIER',\n",
       " '; TokenType.SPECIAL_SYMBOL',\n",
       " 'CameraFilesystemGetInfoFunc TokenType.IDENTIFIER',\n",
       " 'get_info_func TokenType.IDENTIFIER',\n",
       " '; TokenType.SPECIAL_SYMBOL',\n",
       " 'CameraFilesystemSetInfoFunc TokenType.IDENTIFIER',\n",
       " 'set_info_func TokenType.IDENTIFIER',\n",
       " '; TokenType.SPECIAL_SYMBOL',\n",
       " 'CameraFilesystemListFunc TokenType.IDENTIFIER',\n",
       " 'file_list_func TokenType.IDENTIFIER',\n",
       " '; TokenType.SPECIAL_SYMBOL',\n",
       " 'CameraFilesystemListFunc TokenType.IDENTIFIER',\n",
       " 'folder_list_func TokenType.IDENTIFIER',\n",
       " '; TokenType.SPECIAL_SYMBOL',\n",
       " 'CameraFilesystemGetFileFunc TokenType.IDENTIFIER',\n",
       " 'get_file_func TokenType.IDENTIFIER',\n",
       " '; TokenType.SPECIAL_SYMBOL',\n",
       " 'CameraFilesystemReadFileFunc TokenType.IDENTIFIER',\n",
       " 'read_file_func TokenType.IDENTIFIER',\n",
       " '; TokenType.SPECIAL_SYMBOL',\n",
       " 'CameraFilesystemDeleteFileFunc TokenType.IDENTIFIER',\n",
       " 'delete TokenType.OPERATOR',\n",
       " '_ TokenType.SPECIAL_SYMBOL',\n",
       " 'file_func TokenType.IDENTIFIER',\n",
       " '; TokenType.SPECIAL_SYMBOL',\n",
       " 'CameraFilesystemPutFileFunc TokenType.IDENTIFIER',\n",
       " 'put_file_func TokenType.IDENTIFIER',\n",
       " '; TokenType.SPECIAL_SYMBOL',\n",
       " 'CameraFilesystemDeleteAllFunc TokenType.IDENTIFIER',\n",
       " 'delete TokenType.OPERATOR',\n",
       " '_ TokenType.SPECIAL_SYMBOL',\n",
       " 'all_func TokenType.IDENTIFIER',\n",
       " '; TokenType.SPECIAL_SYMBOL',\n",
       " 'CameraFilesystemDirFunc TokenType.IDENTIFIER',\n",
       " 'make_dir_func TokenType.IDENTIFIER',\n",
       " '; TokenType.SPECIAL_SYMBOL',\n",
       " 'CameraFilesystemDirFunc TokenType.IDENTIFIER',\n",
       " 'remove_dir_func TokenType.IDENTIFIER',\n",
       " '; TokenType.SPECIAL_SYMBOL',\n",
       " 'CameraFilesystemStorageInfoFunc TokenType.IDENTIFIER',\n",
       " 'storage_info_func TokenType.IDENTIFIER',\n",
       " '; TokenType.SPECIAL_SYMBOL',\n",
       " 'void TokenType.KEYWORD',\n",
       " '* TokenType.OPERATOR',\n",
       " 'data TokenType.IDENTIFIER',\n",
       " '; TokenType.SPECIAL_SYMBOL',\n",
       " '} TokenType.SPECIAL_SYMBOL',\n",
       " '; TokenType.SPECIAL_SYMBOL']"
      ]
     },
     "execution_count": 13,
     "metadata": {},
     "output_type": "execute_result"
    }
   ],
   "source": [
    "str_code(df_train.iat[0,0])"
   ]
  },
  {
   "cell_type": "code",
   "execution_count": 14,
   "metadata": {},
   "outputs": [],
   "source": [
    "df_train['comment_token'] = df_train['comment'].map(lambda x: spacy_tokenizer(x))\n",
    "df_train['code_token'] = df_train['code'].map(lambda x: str_code(x))"
   ]
  },
  {
   "cell_type": "code",
   "execution_count": 15,
   "metadata": {},
   "outputs": [
    {
     "data": {
      "text/html": [
       "<div>\n",
       "<style scoped>\n",
       "    .dataframe tbody tr th:only-of-type {\n",
       "        vertical-align: middle;\n",
       "    }\n",
       "\n",
       "    .dataframe tbody tr th {\n",
       "        vertical-align: top;\n",
       "    }\n",
       "\n",
       "    .dataframe thead th {\n",
       "        text-align: right;\n",
       "    }\n",
       "</style>\n",
       "<table border=\"1\" class=\"dataframe\">\n",
       "  <thead>\n",
       "    <tr style=\"text-align: right;\">\n",
       "      <th></th>\n",
       "      <th>code</th>\n",
       "      <th>comment</th>\n",
       "      <th>comment_token</th>\n",
       "      <th>code_token</th>\n",
       "    </tr>\n",
       "  </thead>\n",
       "  <tbody>\n",
       "    <tr>\n",
       "      <th>1</th>\n",
       "      <td>struct _CameraFilesystem {\\n\\tCameraFilesystem...</td>\n",
       "      <td>The internals of the #CameraFilesystem are onl...</td>\n",
       "      <td>[internal, camerafilesystem, visible, access, ...</td>\n",
       "      <td>[struct TokenType.KEYWORD, _ TokenType.SPECIAL...</td>\n",
       "    </tr>\n",
       "    <tr>\n",
       "      <th>2</th>\n",
       "      <td>struct _CameraWidget {\\n\\tCameraWidgetType typ...</td>\n",
       "      <td>CameraWidget: The internals of the #CameraWidg...</td>\n",
       "      <td>[camerawidget, internal, camerawidget, visible...</td>\n",
       "      <td>[struct TokenType.KEYWORD, _ TokenType.SPECIAL...</td>\n",
       "    </tr>\n",
       "    <tr>\n",
       "      <th>4</th>\n",
       "      <td>\\tchar error[2048];\\t/**&lt; Internal kept error ...</td>\n",
       "      <td>Internal kept error message.</td>\n",
       "      <td>[internal, error, message]</td>\n",
       "      <td>[char TokenType.KEYWORD, error TokenType.KEYWO...</td>\n",
       "    </tr>\n",
       "    <tr>\n",
       "      <th>5</th>\n",
       "      <td>\\tstruct _GPPortInfo info;\\t/**&lt; Internal port...</td>\n",
       "      <td>Internal port information of this port.</td>\n",
       "      <td>[internal, port, information, port]</td>\n",
       "      <td>[struct TokenType.KEYWORD, _ TokenType.SPECIAL...</td>\n",
       "    </tr>\n",
       "    <tr>\n",
       "      <th>6</th>\n",
       "      <td>\\tGPPortOperations *ops;\\t/**&lt; Internal port o...</td>\n",
       "      <td>Internal port operations.</td>\n",
       "      <td>[internal, port, operation]</td>\n",
       "      <td>[GPPortOperations TokenType.IDENTIFIER, * Toke...</td>\n",
       "    </tr>\n",
       "  </tbody>\n",
       "</table>\n",
       "</div>"
      ],
      "text/plain": [
       "                                                code  \\\n",
       "1  struct _CameraFilesystem {\\n\\tCameraFilesystem...   \n",
       "2  struct _CameraWidget {\\n\\tCameraWidgetType typ...   \n",
       "4  \\tchar error[2048];\\t/**< Internal kept error ...   \n",
       "5  \\tstruct _GPPortInfo info;\\t/**< Internal port...   \n",
       "6  \\tGPPortOperations *ops;\\t/**< Internal port o...   \n",
       "\n",
       "                                             comment  \\\n",
       "1  The internals of the #CameraFilesystem are onl...   \n",
       "2  CameraWidget: The internals of the #CameraWidg...   \n",
       "4                       Internal kept error message.   \n",
       "5            Internal port information of this port.   \n",
       "6                          Internal port operations.   \n",
       "\n",
       "                                       comment_token  \\\n",
       "1  [internal, camerafilesystem, visible, access, ...   \n",
       "2  [camerawidget, internal, camerawidget, visible...   \n",
       "4                         [internal, error, message]   \n",
       "5                [internal, port, information, port]   \n",
       "6                        [internal, port, operation]   \n",
       "\n",
       "                                          code_token  \n",
       "1  [struct TokenType.KEYWORD, _ TokenType.SPECIAL...  \n",
       "2  [struct TokenType.KEYWORD, _ TokenType.SPECIAL...  \n",
       "4  [char TokenType.KEYWORD, error TokenType.KEYWO...  \n",
       "5  [struct TokenType.KEYWORD, _ TokenType.SPECIAL...  \n",
       "6  [GPPortOperations TokenType.IDENTIFIER, * Toke...  "
      ]
     },
     "execution_count": 15,
     "metadata": {},
     "output_type": "execute_result"
    }
   ],
   "source": [
    "df_train.head()"
   ]
  },
  {
   "cell_type": "code",
   "execution_count": 16,
   "metadata": {},
   "outputs": [],
   "source": [
    "counts_com = Counter()\n",
    "for index, row in df_train.iterrows():\n",
    "    counts_com.update(row['comment_token'])"
   ]
  },
  {
   "cell_type": "code",
   "execution_count": 17,
   "metadata": {},
   "outputs": [
    {
     "name": "stdout",
     "output_type": "stream",
     "text": [
      "num_words before: 6881\n",
      "num_words after: 3435\n"
     ]
    }
   ],
   "source": [
    "print(\"num_words before:\",len(counts_com.keys()))\n",
    "for word in list(counts_com):\n",
    "    if counts_com[word] < 2:\n",
    "        del counts_com[word]\n",
    "print(\"num_words after:\",len(counts_com.keys()))"
   ]
  },
  {
   "cell_type": "code",
   "execution_count": 18,
   "metadata": {},
   "outputs": [],
   "source": [
    "counts_code = Counter()\n",
    "for index, row in df_train.iterrows():\n",
    "    counts_code.update(row['code_token'])"
   ]
  },
  {
   "cell_type": "code",
   "execution_count": 19,
   "metadata": {},
   "outputs": [
    {
     "name": "stdout",
     "output_type": "stream",
     "text": [
      "num_words before: 44062\n",
      "num_words after: 25180\n"
     ]
    }
   ],
   "source": [
    "print(\"num_words before:\",len(counts_code.keys()))\n",
    "for word in list(counts_code):\n",
    "    if counts_code[word] < 2:\n",
    "        del counts_code[word]\n",
    "print(\"num_words after:\",len(counts_code.keys()))"
   ]
  },
  {
   "cell_type": "code",
   "execution_count": 20,
   "metadata": {},
   "outputs": [],
   "source": [
    "vocab2index_com = {\"\":0, \"UNK\":1}\n",
    "words_com = [\"\", \"UNK\"]\n",
    "for word in counts_com:\n",
    "    vocab2index_com[word] = len(words_com)\n",
    "    words_com.append(word)"
   ]
  },
  {
   "cell_type": "code",
   "execution_count": 21,
   "metadata": {},
   "outputs": [],
   "source": [
    "vocab2index_code = {\"\":0, \"UNK\":1}\n",
    "words_code = [\"\", \"UNK\"]\n",
    "for word in counts_code:\n",
    "    vocab2index_code[word] = len(words_code)\n",
    "    words_code.append(word)"
   ]
  },
  {
   "cell_type": "code",
   "execution_count": 22,
   "metadata": {},
   "outputs": [
    {
     "name": "stdout",
     "output_type": "stream",
     "text": [
      "Mean = 10.3102\n",
      "Median = 6.0\n",
      "Max = 375\n"
     ]
    }
   ],
   "source": [
    "l_com = []\n",
    "for index, row in df_train.iterrows():\n",
    "    l_com.append(len(row['comment_token']))\n",
    "print(f\"Mean = {np.mean(l_com)}\")\n",
    "print(f\"Median = {np.median(l_com)}\")\n",
    "print(f\"Max = {np.max(l_com)}\")"
   ]
  },
  {
   "cell_type": "code",
   "execution_count": 23,
   "metadata": {},
   "outputs": [
    {
     "name": "stdout",
     "output_type": "stream",
     "text": [
      "Mean = 156.7234\n",
      "Median = 80.0\n",
      "Max = 5554\n"
     ]
    }
   ],
   "source": [
    "l_code = []\n",
    "for index, row in df_train.iterrows():\n",
    "    l_code.append(len(row['code_token']))\n",
    "print(f\"Mean = {np.mean(l_code)}\")\n",
    "print(f\"Median = {np.median(l_code)}\")\n",
    "print(f\"Max = {np.max(l_code)}\")"
   ]
  },
  {
   "cell_type": "code",
   "execution_count": 24,
   "metadata": {},
   "outputs": [],
   "source": [
    "def encode_sentence(tokenized, vocab2index, N=250):\n",
    "    encoded = np.zeros(N, dtype=int)\n",
    "    enc1 = np.array([vocab2index.get(word, vocab2index[\"UNK\"]) for word in tokenized])\n",
    "    length = min(N, len(enc1))\n",
    "    encoded[:length] = enc1[:length]\n",
    "    return encoded, length"
   ]
  },
  {
   "cell_type": "code",
   "execution_count": 25,
   "metadata": {},
   "outputs": [],
   "source": [
    "def encode_code(tokenized, vocab2index, N=3000):\n",
    "    encoded = np.zeros(N, dtype=int)\n",
    "    enc1 = np.array([vocab2index.get(word, vocab2index[\"UNK\"]) for word in tokenized])\n",
    "    length = min(N, len(enc1))\n",
    "    encoded[:length] = enc1[:length]\n",
    "    return encoded, length"
   ]
  },
  {
   "cell_type": "code",
   "execution_count": 26,
   "metadata": {},
   "outputs": [
    {
     "name": "stderr",
     "output_type": "stream",
     "text": [
      "<ipython-input-26-de7353da255d>:1: VisibleDeprecationWarning: Creating an ndarray from ragged nested sequences (which is a list-or-tuple of lists-or-tuples-or ndarrays with different lengths or shapes) is deprecated. If you meant to do this, you must specify 'dtype=object' when creating the ndarray\n",
      "  df_train['comment_vec'] = df_train['comment_token'].apply(lambda x: np.array(encode_sentence(x,vocab2index_com )))\n",
      "<ipython-input-26-de7353da255d>:2: VisibleDeprecationWarning: Creating an ndarray from ragged nested sequences (which is a list-or-tuple of lists-or-tuples-or ndarrays with different lengths or shapes) is deprecated. If you meant to do this, you must specify 'dtype=object' when creating the ndarray\n",
      "  df_train['code_vec'] = df_train['code_token'].apply(lambda x: np.array(encode_code(x,vocab2index_code )))\n"
     ]
    }
   ],
   "source": [
    "df_train['comment_vec'] = df_train['comment_token'].apply(lambda x: np.array(encode_sentence(x,vocab2index_com )))\n",
    "df_train['code_vec'] = df_train['code_token'].apply(lambda x: np.array(encode_code(x,vocab2index_code )))"
   ]
  },
  {
   "cell_type": "code",
   "execution_count": 27,
   "metadata": {},
   "outputs": [
    {
     "data": {
      "text/html": [
       "<div>\n",
       "<style scoped>\n",
       "    .dataframe tbody tr th:only-of-type {\n",
       "        vertical-align: middle;\n",
       "    }\n",
       "\n",
       "    .dataframe tbody tr th {\n",
       "        vertical-align: top;\n",
       "    }\n",
       "\n",
       "    .dataframe thead th {\n",
       "        text-align: right;\n",
       "    }\n",
       "</style>\n",
       "<table border=\"1\" class=\"dataframe\">\n",
       "  <thead>\n",
       "    <tr style=\"text-align: right;\">\n",
       "      <th></th>\n",
       "      <th>code</th>\n",
       "      <th>comment</th>\n",
       "      <th>comment_token</th>\n",
       "      <th>code_token</th>\n",
       "      <th>comment_vec</th>\n",
       "      <th>code_vec</th>\n",
       "    </tr>\n",
       "  </thead>\n",
       "  <tbody>\n",
       "    <tr>\n",
       "      <th>1</th>\n",
       "      <td>struct _CameraFilesystem {\\n\\tCameraFilesystem...</td>\n",
       "      <td>The internals of the #CameraFilesystem are onl...</td>\n",
       "      <td>[internal, camerafilesystem, visible, access, ...</td>\n",
       "      <td>[struct TokenType.KEYWORD, _ TokenType.SPECIAL...</td>\n",
       "      <td>[[2, 3, 4, 5, 6, 7, 8, 0, 0, 0, 0, 0, 0, 0, 0,...</td>\n",
       "      <td>[[2, 3, 4, 5, 1, 6, 7, 8, 9, 6, 1, 8, 9, 6, 1,...</td>\n",
       "    </tr>\n",
       "    <tr>\n",
       "      <th>2</th>\n",
       "      <td>struct _CameraWidget {\\n\\tCameraWidgetType typ...</td>\n",
       "      <td>CameraWidget: The internals of the #CameraWidg...</td>\n",
       "      <td>[camerawidget, internal, camerawidget, visible...</td>\n",
       "      <td>[struct TokenType.KEYWORD, _ TokenType.SPECIAL...</td>\n",
       "      <td>[[9, 2, 9, 4, 5, 6, 7, 8, 0, 0, 0, 0, 0, 0, 0,...</td>\n",
       "      <td>[[2, 3, 29, 5, 30, 31, 8, 32, 33, 34, 35, 36, ...</td>\n",
       "    </tr>\n",
       "    <tr>\n",
       "      <th>4</th>\n",
       "      <td>\\tchar error[2048];\\t/**&lt; Internal kept error ...</td>\n",
       "      <td>Internal kept error message.</td>\n",
       "      <td>[internal, error, message]</td>\n",
       "      <td>[char TokenType.KEYWORD, error TokenType.KEYWO...</td>\n",
       "      <td>[[2, 10, 11, 0, 0, 0, 0, 0, 0, 0, 0, 0, 0, 0, ...</td>\n",
       "      <td>[[32, 58, 34, 59, 36, 8, 41, 42, 0, 0, 0, 0, 0...</td>\n",
       "    </tr>\n",
       "    <tr>\n",
       "      <th>5</th>\n",
       "      <td>\\tstruct _GPPortInfo info;\\t/**&lt; Internal port...</td>\n",
       "      <td>Internal port information of this port.</td>\n",
       "      <td>[internal, port, information, port]</td>\n",
       "      <td>[struct TokenType.KEYWORD, _ TokenType.SPECIAL...</td>\n",
       "      <td>[[2, 12, 13, 12, 0, 0, 0, 0, 0, 0, 0, 0, 0, 0,...</td>\n",
       "      <td>[[2, 3, 60, 37, 8, 41, 42, 0, 0, 0, 0, 0, 0, 0...</td>\n",
       "    </tr>\n",
       "    <tr>\n",
       "      <th>6</th>\n",
       "      <td>\\tGPPortOperations *ops;\\t/**&lt; Internal port o...</td>\n",
       "      <td>Internal port operations.</td>\n",
       "      <td>[internal, port, operation]</td>\n",
       "      <td>[GPPortOperations TokenType.IDENTIFIER, * Toke...</td>\n",
       "      <td>[[2, 12, 14, 0, 0, 0, 0, 0, 0, 0, 0, 0, 0, 0, ...</td>\n",
       "      <td>[[61, 6, 62, 8, 41, 42, 0, 0, 0, 0, 0, 0, 0, 0...</td>\n",
       "    </tr>\n",
       "  </tbody>\n",
       "</table>\n",
       "</div>"
      ],
      "text/plain": [
       "                                                code  \\\n",
       "1  struct _CameraFilesystem {\\n\\tCameraFilesystem...   \n",
       "2  struct _CameraWidget {\\n\\tCameraWidgetType typ...   \n",
       "4  \\tchar error[2048];\\t/**< Internal kept error ...   \n",
       "5  \\tstruct _GPPortInfo info;\\t/**< Internal port...   \n",
       "6  \\tGPPortOperations *ops;\\t/**< Internal port o...   \n",
       "\n",
       "                                             comment  \\\n",
       "1  The internals of the #CameraFilesystem are onl...   \n",
       "2  CameraWidget: The internals of the #CameraWidg...   \n",
       "4                       Internal kept error message.   \n",
       "5            Internal port information of this port.   \n",
       "6                          Internal port operations.   \n",
       "\n",
       "                                       comment_token  \\\n",
       "1  [internal, camerafilesystem, visible, access, ...   \n",
       "2  [camerawidget, internal, camerawidget, visible...   \n",
       "4                         [internal, error, message]   \n",
       "5                [internal, port, information, port]   \n",
       "6                        [internal, port, operation]   \n",
       "\n",
       "                                          code_token  \\\n",
       "1  [struct TokenType.KEYWORD, _ TokenType.SPECIAL...   \n",
       "2  [struct TokenType.KEYWORD, _ TokenType.SPECIAL...   \n",
       "4  [char TokenType.KEYWORD, error TokenType.KEYWO...   \n",
       "5  [struct TokenType.KEYWORD, _ TokenType.SPECIAL...   \n",
       "6  [GPPortOperations TokenType.IDENTIFIER, * Toke...   \n",
       "\n",
       "                                         comment_vec  \\\n",
       "1  [[2, 3, 4, 5, 6, 7, 8, 0, 0, 0, 0, 0, 0, 0, 0,...   \n",
       "2  [[9, 2, 9, 4, 5, 6, 7, 8, 0, 0, 0, 0, 0, 0, 0,...   \n",
       "4  [[2, 10, 11, 0, 0, 0, 0, 0, 0, 0, 0, 0, 0, 0, ...   \n",
       "5  [[2, 12, 13, 12, 0, 0, 0, 0, 0, 0, 0, 0, 0, 0,...   \n",
       "6  [[2, 12, 14, 0, 0, 0, 0, 0, 0, 0, 0, 0, 0, 0, ...   \n",
       "\n",
       "                                            code_vec  \n",
       "1  [[2, 3, 4, 5, 1, 6, 7, 8, 9, 6, 1, 8, 9, 6, 1,...  \n",
       "2  [[2, 3, 29, 5, 30, 31, 8, 32, 33, 34, 35, 36, ...  \n",
       "4  [[32, 58, 34, 59, 36, 8, 41, 42, 0, 0, 0, 0, 0...  \n",
       "5  [[2, 3, 60, 37, 8, 41, 42, 0, 0, 0, 0, 0, 0, 0...  \n",
       "6  [[61, 6, 62, 8, 41, 42, 0, 0, 0, 0, 0, 0, 0, 0...  "
      ]
     },
     "execution_count": 27,
     "metadata": {},
     "output_type": "execute_result"
    }
   ],
   "source": [
    "df_train.head()"
   ]
  },
  {
   "cell_type": "code",
   "execution_count": 28,
   "metadata": {},
   "outputs": [],
   "source": [
    "code = []\n",
    "comment = []\n",
    "for index,row in df_train.iterrows():\n",
    "    code.append((row['code_vec'])[0])\n",
    "    comment.append((row['comment_vec'])[0])"
   ]
  },
  {
   "cell_type": "code",
   "execution_count": 125,
   "metadata": {},
   "outputs": [],
   "source": [
    "code_len = np.array(code[0].shape)\n",
    "comment_len = np.array(comment[0].shape)"
   ]
  },
  {
   "cell_type": "code",
   "execution_count": 30,
   "metadata": {},
   "outputs": [],
   "source": [
    "class SeqEncoder(nn.Module):\n",
    "    def __init__(self, vocab_size, emb_size, hidden_size, n_layers=1):\n",
    "        super(SeqEncoder, self).__init__()\n",
    "        self.emb_size = emb_size\n",
    "        self.hidden_size = hidden_size\n",
    "        self.n_layers = n_layers\n",
    "        self.embedding = nn.Embedding(vocab_size, emb_size, padding_idx=0)\n",
    "        self.lstm = nn.LSTM(emb_size, hidden_size, batch_first=True, bidirectional=True)\n",
    "        self.init_weights()\n",
    "        \n",
    "    def init_weights(self):\n",
    "        nn.init.uniform_(self.embedding.weight, -0.1, 0.1)\n",
    "        nn.init.constant_(self.embedding.weight[0], 0)\n",
    "        for name, param in self.lstm.named_parameters():\n",
    "            if 'weight' in name or 'bias' in name: \n",
    "                param.data.uniform_(-0.1, 0.1)\n",
    "\n",
    "    def forward(self, inputs, input_lens=None): \n",
    "        '''\n",
    "        input_lens: [batch_size]\n",
    "        '''\n",
    "        batch_size, seq_len=inputs.size()\n",
    "        inputs = self.embedding(inputs)  # input: [batch_sz x seq_len]  embedded: [batch_sz x seq_len x emb_sz]\n",
    "        inputs = F.dropout(inputs, 0.25, self.training)\n",
    "        \n",
    "        #if input_lens is not None:# sort and pack sequence \n",
    "        #    input_lens_sorted, indices = input_lens.sort(descending=True)\n",
    "        #    inputs_sorted = inputs.index_select(0, indices)        \n",
    "        #    inputs = pack_padded_sequence(inputs_sorted, input_lens_sorted.data.tolist(), batch_first=True)\n",
    "            \n",
    "        hids, (h_n, c_n) = self.lstm(inputs)  \n",
    "        \n",
    "        #if input_lens is not None: # reorder and pad\n",
    "        #    _, inv_indices = indices.sort()\n",
    "        #    hids, lens = pad_packed_sequence(hids, batch_first=True) # hids:[batch_size x seq_len x (n_dir*hid_sz)](biRNN)\n",
    "        #    hids = F.dropout(hids, p=0.25, training=self.training)\n",
    "        #    hids = hids.index_select(0, inv_indices)\n",
    "        #    h_n = h_n.index_select(1, inv_indices)\n",
    "        h_n = h_n.view(self.n_layers, 2, batch_size, self.hidden_size) #[n_layers x n_dirs x batch_sz x hid_sz]\n",
    "        h_n = h_n[-1] \n",
    "        encoding3 = torch.cat((h_n[0], h_n[1]), dim=1)\n",
    "        return encoding3 "
   ]
  },
  {
   "cell_type": "code",
   "execution_count": 31,
   "metadata": {},
   "outputs": [],
   "source": [
    "class BOWEncoder(nn.Module):\n",
    "  \n",
    "    def __init__(self, vocab_size, emb_size, hidden_size):\n",
    "        super(BOWEncoder, self).__init__()\n",
    "        self.emb_size=emb_size\n",
    "        self.hidden_size = hidden_size\n",
    "        self.embedding = nn.Embedding(vocab_size, emb_size)\n",
    "        \n",
    "        self.init_weights()\n",
    "        \n",
    "    def init_weights(self):\n",
    "        nn.init.uniform_(self.embedding.weight, -0.1, 0.1)\n",
    "        nn.init.constant_(self.embedding.weight[0], 0)\n",
    "        \n",
    "    def forward(self, input, input_len=None): \n",
    "        batch_size, seq_len =input.size()\n",
    "        embedded = self.embedding(input)  \n",
    "        embedded= F.dropout(embedded, 0.25, self.training) \n",
    "        maxpooling = nn.MaxPool1d(kernel_size = seq_len, stride=seq_len)\n",
    "        output_pool = maxpooling(embedded.transpose(1,2)).squeeze(2) \n",
    "        encoding = output_pool\n",
    "        return encoding"
   ]
  },
  {
   "cell_type": "code",
   "execution_count": 164,
   "metadata": {},
   "outputs": [],
   "source": [
    "class JointEmbedder(nn.Module):\n",
    "\n",
    "    def __init__(self):\n",
    "        super(JointEmbedder, self).__init__()\n",
    "        self.margin = 0.04\n",
    "               \n",
    "        \n",
    "        self.code_encoder=BOWEncoder(10000,512,512)\n",
    "        self.comment_encoder=SeqEncoder(10000,512,1024)\n",
    "\n",
    "        \n",
    "        self.w_code = nn.Linear(512, 512)\n",
    "        self.w_comment = nn.Linear(2*1024, 512)\n",
    "        \n",
    "        self.init_weights()\n",
    "        \n",
    "    def init_weights(self):# Initialize Linear Weight \n",
    "        for m in [self.w_code]:        \n",
    "            m.weight.data.uniform_(-0.1, 0.1)#nn.init.xavier_normal_(m.weight)\n",
    "            nn.init.constant_(m.bias, 0.) \n",
    "            \n",
    "    def code_encoding(self, code_tokens, code_len):\n",
    "        code_repr=self.code_encoder(code_tokens, code_len)\n",
    "        code_repr = self.w_code(code_repr)\n",
    "        return code_repr\n",
    "        \n",
    "    def comment_encoding(self, comment, comment_len):\n",
    "        comment_repr=self.comment_encoder(comment, comment_len)\n",
    "        comment_repr=self.w_comment(comment_repr)\n",
    "        return comment_repr\n",
    "    \n",
    "    def similarity(self, code_vec, comment_vec):\n",
    "   \n",
    "            return F.cosine_similarity(code_vec, comment_vec)\n",
    "      \n",
    "    \n",
    "    def forward(self, code, code_len, comment_anchor, comment_anchor_len, comment_neg, comment_neg_len):\n",
    "        batch_size=code.size(0)\n",
    "        code_repr=self.code_encoding(code, code_len)\n",
    "        comment_anchor_repr=self.comment_encoding(comment_anchor, comment_anchor_len)\n",
    "        comment_neg_repr=self.comment_encoding(comment_neg, comment_neg_len)\n",
    "    \n",
    "        anchor_sim = self.similarity(code_repr, comment_anchor_repr)\n",
    "        neg_sim = self.similarity(code_repr, comment_neg_repr) # [batch_sz x 1]\n",
    "        \n",
    "        loss=(self.margin-anchor_sim+neg_sim).clamp(min=1e-6).mean()\n",
    "        \n",
    "        return loss"
   ]
  },
  {
   "cell_type": "code",
   "execution_count": 165,
   "metadata": {},
   "outputs": [],
   "source": [
    "model = JointEmbedder()"
   ]
  },
  {
   "cell_type": "code",
   "execution_count": 166,
   "metadata": {},
   "outputs": [],
   "source": [
    "testcode = torch.from_numpy(np.array(code[0:2]))\n",
    "testcomm = torch.from_numpy(np.array(comment[0:2]))\n",
    "testnegcomm = torch.from_numpy(np.array(comment[4:6]))"
   ]
  },
  {
   "cell_type": "code",
   "execution_count": 167,
   "metadata": {},
   "outputs": [
    {
     "data": {
      "text/plain": [
       "tensor(0.0317, grad_fn=<MeanBackward0>)"
      ]
     },
     "execution_count": 167,
     "metadata": {},
     "output_type": "execute_result"
    }
   ],
   "source": [
    "model(testcode,code_len,testcomm,comment_len,testnegcomm,comment_len)"
   ]
  },
  {
   "cell_type": "code",
   "execution_count": 174,
   "metadata": {},
   "outputs": [],
   "source": [
    "def train(data_loader):\n",
    "    #optimizer = torch.optim.AdamW(optimizer_grouped_parameters, lr=learning_rate, eps=adam_epsilon)        \n",
    "    #scheduler = get_cosine_schedule_with_warmup(optimizer, num_warmup_steps=warmup_steps,num_training_steps=len(data_loader)*epochs)\n",
    "    optimizer = torch.optim.Adam(model.parameters())\n",
    "    n_iters = len(data_loader)\n",
    "  \n",
    "    for epoch in range(10): \n",
    "       \n",
    "        losses=[]\n",
    "        for batch in data_loader:\n",
    "\n",
    "            model.train()\n",
    "            #batch_gpu = [tensor.to(device) for tensor in batch]\n",
    "            #loss = model(*batch_gpu)\n",
    "            loss = model(*batch)\n",
    "            optimizer.zero_grad()\n",
    "            loss.backward()\n",
    "            optimizer.step()\n",
    "            #scheduler.step()\n",
    "            model.zero_grad()\n",
    "            losses.append(loss.item())\n",
    "            print(loss.item())"
   ]
  },
  {
   "cell_type": "code",
   "execution_count": 175,
   "metadata": {},
   "outputs": [],
   "source": [
    "class CodeSearchDataset(data.Dataset):\n",
    "    def __init__(self, code, code_len, comment=None, comment_len=None):\n",
    "        \n",
    "        self.code = code\n",
    "        self.code_len = code_len\n",
    "        self.data_len = len(code)\n",
    "        self.comment = comment\n",
    "        self.comment_len = comment_len\n",
    "        \n",
    "    def __getitem__(self, idx):\n",
    "        \n",
    "        cd = torch.from_numpy(self.code[idx])\n",
    "        cd = cd.unsqueeze(dim=0)\n",
    "        cd_len = torch.from_numpy(self.code_len)\n",
    "        \n",
    "        #if self.training:\n",
    "        good_desc = torch.from_numpy(self.comment[idx])\n",
    "        good_desc = good_desc.unsqueeze(dim=0)\n",
    "        good_desc_len = torch.from_numpy(self.comment_len)\n",
    "            \n",
    "        rand_idx=random.randint(0, self.data_len-1)\n",
    "            \n",
    "        bad_desc = torch.from_numpy(self.comment[rand_idx])\n",
    "        bad_desc = bad_desc.unsqueeze(dim=0)\n",
    "        bad_desc_len = torch.from_numpy(self.comment_len)\n",
    "            \n",
    "        return cd, cd_len, good_desc, good_desc_len, bad_desc, bad_desc_len\n",
    "        #return cd, code_len\n",
    "    \n",
    "    def __len__(self):\n",
    "        return(self.data_len)"
   ]
  },
  {
   "cell_type": "code",
   "execution_count": 176,
   "metadata": {},
   "outputs": [],
   "source": [
    "test = CodeSearchDataset(code, code_len, comment, comment_len)"
   ]
  },
  {
   "cell_type": "code",
   "execution_count": 177,
   "metadata": {},
   "outputs": [
    {
     "name": "stdout",
     "output_type": "stream",
     "text": [
      "<class 'torch.Tensor'>\n"
     ]
    }
   ],
   "source": [
    "for i in test:\n",
    "    print(type(i[1]))\n",
    "    break"
   ]
  },
  {
   "cell_type": "code",
   "execution_count": 178,
   "metadata": {},
   "outputs": [
    {
     "name": "stdout",
     "output_type": "stream",
     "text": [
      "9.999999974752427e-07\n",
      "9.999999974752427e-07\n"
     ]
    },
    {
     "ename": "KeyboardInterrupt",
     "evalue": "",
     "output_type": "error",
     "traceback": [
      "\u001b[1;31m---------------------------------------------------------------------------\u001b[0m",
      "\u001b[1;31mKeyboardInterrupt\u001b[0m                         Traceback (most recent call last)",
      "\u001b[1;32m<ipython-input-178-c595b66d2f5e>\u001b[0m in \u001b[0;36m<module>\u001b[1;34m\u001b[0m\n\u001b[1;32m----> 1\u001b[1;33m \u001b[0mtrain\u001b[0m\u001b[1;33m(\u001b[0m\u001b[0mtest\u001b[0m\u001b[1;33m)\u001b[0m\u001b[1;33m\u001b[0m\u001b[1;33m\u001b[0m\u001b[0m\n\u001b[0m",
      "\u001b[1;32m<ipython-input-174-efcc8db66f03>\u001b[0m in \u001b[0;36mtrain\u001b[1;34m(data_loader)\u001b[0m\n\u001b[0;32m     15\u001b[0m             \u001b[0mloss\u001b[0m \u001b[1;33m=\u001b[0m \u001b[0mmodel\u001b[0m\u001b[1;33m(\u001b[0m\u001b[1;33m*\u001b[0m\u001b[0mbatch\u001b[0m\u001b[1;33m)\u001b[0m\u001b[1;33m\u001b[0m\u001b[1;33m\u001b[0m\u001b[0m\n\u001b[0;32m     16\u001b[0m             \u001b[0moptimizer\u001b[0m\u001b[1;33m.\u001b[0m\u001b[0mzero_grad\u001b[0m\u001b[1;33m(\u001b[0m\u001b[1;33m)\u001b[0m\u001b[1;33m\u001b[0m\u001b[1;33m\u001b[0m\u001b[0m\n\u001b[1;32m---> 17\u001b[1;33m             \u001b[0mloss\u001b[0m\u001b[1;33m.\u001b[0m\u001b[0mbackward\u001b[0m\u001b[1;33m(\u001b[0m\u001b[1;33m)\u001b[0m\u001b[1;33m\u001b[0m\u001b[1;33m\u001b[0m\u001b[0m\n\u001b[0m\u001b[0;32m     18\u001b[0m             \u001b[0moptimizer\u001b[0m\u001b[1;33m.\u001b[0m\u001b[0mstep\u001b[0m\u001b[1;33m(\u001b[0m\u001b[1;33m)\u001b[0m\u001b[1;33m\u001b[0m\u001b[1;33m\u001b[0m\u001b[0m\n\u001b[0;32m     19\u001b[0m             \u001b[1;31m#scheduler.step()\u001b[0m\u001b[1;33m\u001b[0m\u001b[1;33m\u001b[0m\u001b[1;33m\u001b[0m\u001b[0m\n",
      "\u001b[1;32mC:\\ProgramData\\Anaconda3\\lib\\site-packages\\torch\\_tensor.py\u001b[0m in \u001b[0;36mbackward\u001b[1;34m(self, gradient, retain_graph, create_graph, inputs)\u001b[0m\n\u001b[0;32m    253\u001b[0m                 \u001b[0mcreate_graph\u001b[0m\u001b[1;33m=\u001b[0m\u001b[0mcreate_graph\u001b[0m\u001b[1;33m,\u001b[0m\u001b[1;33m\u001b[0m\u001b[1;33m\u001b[0m\u001b[0m\n\u001b[0;32m    254\u001b[0m                 inputs=inputs)\n\u001b[1;32m--> 255\u001b[1;33m         \u001b[0mtorch\u001b[0m\u001b[1;33m.\u001b[0m\u001b[0mautograd\u001b[0m\u001b[1;33m.\u001b[0m\u001b[0mbackward\u001b[0m\u001b[1;33m(\u001b[0m\u001b[0mself\u001b[0m\u001b[1;33m,\u001b[0m \u001b[0mgradient\u001b[0m\u001b[1;33m,\u001b[0m \u001b[0mretain_graph\u001b[0m\u001b[1;33m,\u001b[0m \u001b[0mcreate_graph\u001b[0m\u001b[1;33m,\u001b[0m \u001b[0minputs\u001b[0m\u001b[1;33m=\u001b[0m\u001b[0minputs\u001b[0m\u001b[1;33m)\u001b[0m\u001b[1;33m\u001b[0m\u001b[1;33m\u001b[0m\u001b[0m\n\u001b[0m\u001b[0;32m    256\u001b[0m \u001b[1;33m\u001b[0m\u001b[0m\n\u001b[0;32m    257\u001b[0m     \u001b[1;32mdef\u001b[0m \u001b[0mregister_hook\u001b[0m\u001b[1;33m(\u001b[0m\u001b[0mself\u001b[0m\u001b[1;33m,\u001b[0m \u001b[0mhook\u001b[0m\u001b[1;33m)\u001b[0m\u001b[1;33m:\u001b[0m\u001b[1;33m\u001b[0m\u001b[1;33m\u001b[0m\u001b[0m\n",
      "\u001b[1;32mC:\\ProgramData\\Anaconda3\\lib\\site-packages\\torch\\autograd\\__init__.py\u001b[0m in \u001b[0;36mbackward\u001b[1;34m(tensors, grad_tensors, retain_graph, create_graph, grad_variables, inputs)\u001b[0m\n\u001b[0;32m    145\u001b[0m         \u001b[0mretain_graph\u001b[0m \u001b[1;33m=\u001b[0m \u001b[0mcreate_graph\u001b[0m\u001b[1;33m\u001b[0m\u001b[1;33m\u001b[0m\u001b[0m\n\u001b[0;32m    146\u001b[0m \u001b[1;33m\u001b[0m\u001b[0m\n\u001b[1;32m--> 147\u001b[1;33m     Variable._execution_engine.run_backward(\n\u001b[0m\u001b[0;32m    148\u001b[0m         \u001b[0mtensors\u001b[0m\u001b[1;33m,\u001b[0m \u001b[0mgrad_tensors_\u001b[0m\u001b[1;33m,\u001b[0m \u001b[0mretain_graph\u001b[0m\u001b[1;33m,\u001b[0m \u001b[0mcreate_graph\u001b[0m\u001b[1;33m,\u001b[0m \u001b[0minputs\u001b[0m\u001b[1;33m,\u001b[0m\u001b[1;33m\u001b[0m\u001b[1;33m\u001b[0m\u001b[0m\n\u001b[0;32m    149\u001b[0m         allow_unreachable=True, accumulate_grad=True)  # allow_unreachable flag\n",
      "\u001b[1;31mKeyboardInterrupt\u001b[0m: "
     ]
    }
   ],
   "source": [
    "train(test)"
   ]
  },
  {
   "cell_type": "code",
   "execution_count": null,
   "metadata": {},
   "outputs": [],
   "source": []
  }
 ],
 "metadata": {
  "kernelspec": {
   "display_name": "Python 3",
   "language": "python",
   "name": "python3"
  },
  "language_info": {
   "codemirror_mode": {
    "name": "ipython",
    "version": 3
   },
   "file_extension": ".py",
   "mimetype": "text/x-python",
   "name": "python",
   "nbconvert_exporter": "python",
   "pygments_lexer": "ipython3",
   "version": "3.8.5"
  }
 },
 "nbformat": 4,
 "nbformat_minor": 4
}
